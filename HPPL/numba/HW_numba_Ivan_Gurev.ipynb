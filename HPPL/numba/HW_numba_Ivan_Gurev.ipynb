{
 "cells": [
  {
   "cell_type": "markdown",
   "metadata": {
    "id": "O_6ZvhY4mW2Q"
   },
   "source": [
    "Exercise 1. JIT the Mandelbrot fractal\n",
    "--------------------------------------------\n",
    "\n",
    "Separate exercise notebook or use your own Mandelbrot code \n",
    "\n",
    "1. Profile the code, find the bottlenecks\n",
    "2. Use Numba to speed up the code\n",
    "3. Compare the timing"
   ]
  },
  {
   "cell_type": "code",
   "execution_count": 1,
   "metadata": {},
   "outputs": [],
   "source": [
    "import numpy as np\n",
    "import matplotlib.pyplot as plt\n",
    "import matplotlib.cm as cm\n",
    "from numba import njit\n",
    "%matplotlib inline"
   ]
  },
  {
   "cell_type": "code",
   "execution_count": 21,
   "metadata": {},
   "outputs": [],
   "source": [
    "def julia(c=0, xres=300, yres=300, xmin=-1.3, xmax=1.3, ymin=-1.3, ymax=1.3, zmax = 1, iterations = 250):\n",
    "    \n",
    "    julia = np.zeros((xres,yres))\n",
    "    width = xmax - xmin\n",
    "    height = ymax - ymin\n",
    "    counter = 0\n",
    "\n",
    "    for ys in range(yres):\n",
    "        for xs in range(xres):\n",
    "            z = complex(ys/yres*height + ymin, xs/xres*width + xmin)\n",
    "            \n",
    "            i = 0\n",
    "            while i<=iterations and abs(z)<zmax:          \n",
    "                z = z**2 + c\n",
    "                i += 1\n",
    "                counter += 1\n",
    "            ratio = i/iterations\n",
    "            julia[xs,ys] = ratio\n",
    "            #if abs(z) < zmax:\n",
    "                #julia[xs,ys] = 0\n",
    "            #else:\n",
    "                #julia[xs,ys] = 1\n",
    "    return  counter\n",
    "    "
   ]
  },
  {
   "cell_type": "code",
   "execution_count": 13,
   "metadata": {},
   "outputs": [
    {
     "name": "stdout",
     "output_type": "stream",
     "text": [
      "         10546255 function calls in 9.551 seconds\n",
      "\n",
      "   Ordered by: standard name\n",
      "\n",
      "   ncalls  tottime  percall  cumtime  percall filename:lineno(function)\n",
      "        1    7.191    7.191    9.551    9.551 1839207562.py:1(julia)\n",
      "        1    0.000    0.000    9.551    9.551 <string>:1(<module>)\n",
      " 10546250    2.360    0.000    2.360    0.000 {built-in method builtins.abs}\n",
      "        1    0.000    0.000    9.551    9.551 {built-in method builtins.exec}\n",
      "        1    0.000    0.000    0.000    0.000 {built-in method numpy.zeros}\n",
      "        1    0.000    0.000    0.000    0.000 {method 'disable' of '_lsprof.Profiler' objects}\n",
      "\n",
      "\n"
     ]
    }
   ],
   "source": [
    "import cProfile\n",
    "\n",
    "cProfile.run('julia()')"
   ]
  },
  {
   "cell_type": "code",
   "execution_count": 17,
   "metadata": {},
   "outputs": [],
   "source": [
    "%load_ext snakeviz"
   ]
  },
  {
   "cell_type": "code",
   "execution_count": 18,
   "metadata": {
    "scrolled": true
   },
   "outputs": [
    {
     "name": "stdout",
     "output_type": "stream",
     "text": [
      " \n",
      "*** Profile stats marshalled to file 'C:\\\\Users\\\\ivang\\\\AppData\\\\Local\\\\Temp\\\\tmp85v3re21'.\n",
      "Embedding SnakeViz in this document...\n"
     ]
    },
    {
     "data": {
      "text/html": [
       "\n",
       "<iframe id='snakeviz-21e7950c-7e13-11ed-a48c-7824afe38acb' frameborder=0 seamless width='100%' height='1000'></iframe>\n",
       "<script>document.getElementById(\"snakeviz-21e7950c-7e13-11ed-a48c-7824afe38acb\").setAttribute(\"src\", \"http://\" + document.location.hostname + \":8080/snakeviz/C%3A%5CUsers%5Civang%5CAppData%5CLocal%5CTemp%5Ctmp85v3re21\")</script>\n"
      ],
      "text/plain": [
       "<IPython.core.display.HTML object>"
      ]
     },
     "metadata": {},
     "output_type": "display_data"
    }
   ],
   "source": [
    "%snakeviz julia()"
   ]
  },
  {
   "cell_type": "code",
   "execution_count": 22,
   "metadata": {},
   "outputs": [],
   "source": [
    "numba_julia = njit()(julia)"
   ]
  },
  {
   "cell_type": "code",
   "execution_count": 28,
   "metadata": {},
   "outputs": [
    {
     "name": "stdout",
     "output_type": "stream",
     "text": [
      "5.95 s ± 67.5 ms per loop (mean ± std. dev. of 7 runs, 1 loop each)\n",
      "77.3 ms ± 11.1 ms per loop (mean ± std. dev. of 7 runs, 1 loop each)\n",
      "92.59406879443091\n"
     ]
    }
   ],
   "source": [
    "plain = %timeit -o julia()\n",
    "jitted = %timeit -o numba_julia()\n",
    "print(plain.best / jitted.best)"
   ]
  },
  {
   "cell_type": "code",
   "execution_count": 27,
   "metadata": {},
   "outputs": [
    {
     "name": "stdout",
     "output_type": "stream",
     "text": [
      "2.74 s ± 37.9 ms per loop (mean ± std. dev. of 2 runs, 1 loop each)\n",
      "32.2 ms ± 1.23 ms per loop (mean ± std. dev. of 2 runs, 10 loops each)\n",
      "3.24 s ± 81.9 ms per loop (mean ± std. dev. of 2 runs, 1 loop each)\n",
      "44.1 ms ± 583 µs per loop (mean ± std. dev. of 2 runs, 10 loops each)\n",
      "4.27 s ± 384 ms per loop (mean ± std. dev. of 2 runs, 1 loop each)\n",
      "53.4 ms ± 1.09 ms per loop (mean ± std. dev. of 2 runs, 10 loops each)\n",
      "4.41 s ± 88 ms per loop (mean ± std. dev. of 2 runs, 1 loop each)\n",
      "53.9 ms ± 755 µs per loop (mean ± std. dev. of 2 runs, 10 loops each)\n",
      "5.84 s ± 562 ms per loop (mean ± std. dev. of 2 runs, 1 loop each)\n",
      "67.5 ms ± 7.64 ms per loop (mean ± std. dev. of 2 runs, 10 loops each)\n",
      "6.69 s ± 380 ms per loop (mean ± std. dev. of 2 runs, 1 loop each)\n",
      "69.5 ms ± 1.1 ms per loop (mean ± std. dev. of 2 runs, 10 loops each)\n",
      "8.18 s ± 277 ms per loop (mean ± std. dev. of 2 runs, 1 loop each)\n",
      "88 ms ± 849 µs per loop (mean ± std. dev. of 2 runs, 10 loops each)\n",
      "8.71 s ± 1.08 s per loop (mean ± std. dev. of 2 runs, 1 loop each)\n",
      "82.5 ms ± 981 µs per loop (mean ± std. dev. of 2 runs, 10 loops each)\n",
      "8.01 s ± 34.5 ms per loop (mean ± std. dev. of 2 runs, 1 loop each)\n",
      "112 ms ± 3.59 ms per loop (mean ± std. dev. of 2 runs, 10 loops each)\n",
      "9.78 s ± 249 ms per loop (mean ± std. dev. of 2 runs, 1 loop each)\n",
      "97.9 ms ± 2.45 ms per loop (mean ± std. dev. of 2 runs, 10 loops each)\n"
     ]
    }
   ],
   "source": [
    "iterations = np.arange(100,350, 25)\n",
    "res = list()\n",
    "tim = list()\n",
    "res_num = list()\n",
    "tim_num = list()\n",
    "for i in iterations:\n",
    "    a = %timeit -o -r 2 c = julia(iterations = i)\n",
    "    tim.append(a.best)\n",
    "    res.append(julia(iterations = i))\n",
    "    \n",
    "    b = %timeit -o -r 2 d = numba_julia(iterations = i)\n",
    "    tim_num.append(b.best)\n",
    "    res_num.append(numba_julia(iterations = i))"
   ]
  },
  {
   "cell_type": "code",
   "execution_count": 57,
   "metadata": {},
   "outputs": [
    {
     "data": {
      "image/png": "[encoded data removed]",
      "text/plain": [
       "<Figure size 1000x400 with 2 Axes>"
      ]
     },
     "metadata": {},
     "output_type": "display_data"
    }
   ],
   "source": [
    "fig,axes = plt.subplots(1,2, figsize=(10,4))\n",
    "axes[0].plot(res,tim, label = 'regular')\n",
    "axes[0].plot(res_num,tim_num, label = 'numba')\n",
    "axes[1].plot(res_num,tim_num, label = 'numba')\n",
    "axes[0].legend()\n",
    "axes[1].legend()\n",
    "axes[0].set_xlabel('iterations')\n",
    "axes[0].set_ylabel('time, s')\n",
    "axes[1].set_xlabel('iterations')\n",
    "axes[1].set_ylabel('time, s');"
   ]
  },
  {
   "cell_type": "markdown",
   "metadata": {
    "id": "UuSQByCqmW2W"
   },
   "source": [
    "## N-Body problems\n",
    "\n",
    "Many physical problems require the evaluation of all pairwise interactions of a large number of particles, so-called N-body problems. These problems arise in molecular dynamics, astrodynamics and electromagnetics among others. \n",
    "\n",
    "Their pairwise interactions can be expressed as:\n",
    "\n",
    "\\begin{equation}\n",
    "f_i = \\sum_{j=1}^n{P \\left(\\boldsymbol{x}_i, \\boldsymbol{x}_j \\right)w_j} \\ \\ \\ \\text{for } i=1,2,...,n \n",
    "\\end{equation}\n",
    "\n",
    "*  where subscripts $i$,  $j$ respectively denote *target* and *source*\n",
    "*  $f_i$ can be a *potential* (or *force*) at target point $i$\n",
    "*  $w_j$ is the *source weight* \n",
    "*  $\\boldsymbol{x}_i, \\boldsymbol{x}_j$ are the *spatial positions* of particles \n",
    "*  $P \\left(\\boldsymbol{x}_i, \\boldsymbol{x}_j \\right)$ is the *interaction kernel*. \n",
    "\n",
    "In order to evalute the potential $f_i$ at a target point $i$, we have to loop over each source particle $j$. Since there are $n$ target points $i$, this 'brute-force' approach costs $\\mathcal{O} \\left(n^2 \\right)$ operations. \n",
    "\n",
    "One possible approach in this kind of problem is to define a few classes, say `Point` and `Particle` and then loop over the objects and perform the necessary point-to-point calculations."
   ]
  },
  {
   "cell_type": "code",
   "execution_count": 83,
   "metadata": {
    "id": "gKwmxPhYmW2W"
   },
   "outputs": [],
   "source": [
    "class Point():\n",
    "    \"\"\"    \n",
    "    Arguments:\n",
    "        domain: the domain of random generated coordinates x,y,z, \n",
    "                default=1.0\n",
    "    \n",
    "    Attributes:\n",
    "        x, y, z: coordinates of the point\n",
    "    \"\"\"\n",
    "    def __init__(self, domain=1.0):\n",
    "        self.x = domain * numpy.random.random()\n",
    "        self.y = domain * numpy.random.random()\n",
    "        self.z = domain * numpy.random.random()\n",
    "            \n",
    "    def distance(self, other):\n",
    "        return ((self.x - other.x)**2 + \n",
    "                (self.y - other.y)**2 + \n",
    "                (self.z - other.z)**2)**.5"
   ]
  },
  {
   "cell_type": "code",
   "execution_count": 84,
   "metadata": {
    "id": "rV-Qdf3omW2W"
   },
   "outputs": [],
   "source": [
    "class Particle(Point):\n",
    "    \"\"\"    \n",
    "    Attributes:\n",
    "        m: mass of the particle\n",
    "        phi: the potential of the particle\n",
    "    \"\"\"\n",
    "    \n",
    "    def __init__(self, domain=1.0, m=1.0):\n",
    "        Point.__init__(self, domain)\n",
    "        self.m = m\n",
    "        self.phi = 0."
   ]
  },
  {
   "cell_type": "markdown",
   "metadata": {
    "id": "WABSQ09hmW2X"
   },
   "source": [
    "Now we create a list of `n` random particles, define a function to calculate their interaction via direct summation and run!"
   ]
  },
  {
   "cell_type": "code",
   "execution_count": 87,
   "metadata": {
    "id": "IkfJDltzmW2X"
   },
   "outputs": [],
   "source": [
    "n = 10\n",
    "particles = [Particle(m = 1 / n) for i in range(n)]"
   ]
  },
  {
   "cell_type": "code",
   "execution_count": 86,
   "metadata": {
    "id": "m3HH43HpmW2X",
    "outputId": "a9825f7f-93df-4db6-be1e-2e8323293eda"
   },
   "outputs": [
    {
     "data": {
      "text/plain": [
       "0.31771382602978526"
      ]
     },
     "execution_count": 86,
     "metadata": {},
     "output_type": "execute_result"
    }
   ],
   "source": [
    "particles[10].z"
   ]
  },
  {
   "cell_type": "code",
   "execution_count": 90,
   "metadata": {},
   "outputs": [
    {
     "data": {
      "text/plain": [
       "0.03471162183668952"
      ]
     },
     "execution_count": 90,
     "metadata": {},
     "output_type": "execute_result"
    }
   ],
   "source": [
    "particles[1].z"
   ]
  },
  {
   "cell_type": "code",
   "execution_count": 50,
   "metadata": {
    "id": "xcTEyIy5mW2X"
   },
   "outputs": [],
   "source": [
    "def direct_sum(particles):\n",
    "    \"\"\"\n",
    "    Calculate the potential at each particle\n",
    "    using direct summation method.\n",
    "\n",
    "    Arguments:\n",
    "        particles: the list of particles\n",
    "\n",
    "    \"\"\"\n",
    "    for i, target in enumerate(particles):\n",
    "        for source in (particles[:i] + particles[i+1:]):\n",
    "            r = target.distance(source)\n",
    "            target.phi += source.m / r"
   ]
  },
  {
   "cell_type": "markdown",
   "metadata": {
    "id": "h3TCqCuVmW2Y"
   },
   "source": [
    "## How do we use Numba on this problem?\n",
    "Problem: Numba doesn't support jitting native Python classes.  There is a `jit_class` structure in Numba but it's still in early development.\n",
    "\n",
    "But it's nice to have attributes for literate programming.\n",
    "\n",
    "Solution: NumPy custom dtypes."
   ]
  },
  {
   "cell_type": "code",
   "execution_count": 58,
   "metadata": {
    "id": "g2rHY_--mW2Z"
   },
   "outputs": [],
   "source": [
    "particle_dtype = numpy.dtype({'names':['x','y','z','m','phi'], \n",
    "                             'formats':[numpy.double, \n",
    "                                        numpy.double, \n",
    "                                        numpy.double, \n",
    "                                        numpy.double, \n",
    "                                        numpy.double]})"
   ]
  },
  {
   "cell_type": "code",
   "execution_count": 59,
   "metadata": {
    "id": "gQ2LC960mW2Z"
   },
   "outputs": [],
   "source": [
    "myarray = numpy.ones(3, dtype=particle_dtype)"
   ]
  },
  {
   "cell_type": "code",
   "execution_count": 60,
   "metadata": {
    "id": "ELzPlG9smW2Z",
    "outputId": "8d21289e-6097-43ad-8c13-ae8bbf0607bb"
   },
   "outputs": [
    {
     "data": {
      "text/plain": [
       "1.0"
      ]
     },
     "execution_count": 60,
     "metadata": {},
     "output_type": "execute_result"
    }
   ],
   "source": [
    "myarray[1][\"z\"]"
   ]
  },
  {
   "cell_type": "code",
   "execution_count": 61,
   "metadata": {
    "id": "pmklFbSdmW2Z"
   },
   "outputs": [],
   "source": [
    "myarray['x']=numpy.ones(3)*10"
   ]
  },
  {
   "cell_type": "code",
   "execution_count": 62,
   "metadata": {
    "id": "4jSfjk0PmW2Z",
    "outputId": "789c7935-f97d-4d07-a15e-3b87b33c9f6c"
   },
   "outputs": [
    {
     "data": {
      "text/plain": [
       "array([(10., 1., 1., 1., 1.), (10., 1., 1., 1., 1.),\n",
       "       (10., 1., 1., 1., 1.)],\n",
       "      dtype=[('x', '<f8'), ('y', '<f8'), ('z', '<f8'), ('m', '<f8'), ('phi', '<f8')])"
      ]
     },
     "execution_count": 62,
     "metadata": {},
     "output_type": "execute_result"
    }
   ],
   "source": [
    "myarray"
   ]
  },
  {
   "cell_type": "markdown",
   "metadata": {
    "id": "5hrjtXHbmW2a"
   },
   "source": [
    "### Exercise 1\n",
    "\n",
    "Write a function `create_n_random_particles` that takes the arguments `n` (number of particles), `m` (mass of every particle) and a domain within to generate a random number (as in the class above).\n",
    "It should create an array with `n` elements and `dtype=particle_dtype` and then return that array.\n",
    "\n",
    "For each particle, the mass should be initialized to the value of `m` and the potential `phi` initialized to zero.\n",
    "\n",
    "For the `x` component of a given particle `p`, you might do something like\n",
    "\n",
    "```python\n",
    "p['x'] = domain * numpy.random.random()\n",
    "```"
   ]
  },
  {
   "cell_type": "code",
   "execution_count": 194,
   "metadata": {
    "id": "LtfLHUe6mW2a"
   },
   "outputs": [],
   "source": [
    "\n",
    "def create_n_random_particles(n, m, domain=1):\n",
    "    '''\n",
    "    Creates `n` particles with mass `m` with random coordinates\n",
    "    between 0 and `domain`\n",
    "    '''\n",
    "    parts = numpy.zeros((n), dtype=particle_dtype)\n",
    "    \n",
    "    for i in range(n):\n",
    "        parts[i]['x'] = np.random.random()*domain\n",
    "        parts[i]['y'] = np.random.random()*domain\n",
    "        parts[i]['z'] = np.random.random()*domain\n",
    "        parts[i]['m'] = m\n",
    "        parts[i]['phi'] = 0\n",
    "    \n",
    "    return parts   #parts is an array of particles"
   ]
  },
  {
   "cell_type": "code",
   "execution_count": 195,
   "metadata": {
    "scrolled": true
   },
   "outputs": [],
   "source": [
    "parts = create_n_random_particles(5, 2, domain=1)"
   ]
  },
  {
   "cell_type": "code",
   "execution_count": 200,
   "metadata": {
    "id": "msg18mvLmW2a",
    "outputId": "a6f4b426-8ef0-4722-fbb4-b7e5ce392495"
   },
   "outputs": [],
   "source": [
    "jit_parts = njit()(create_n_random_particles)\n",
    "jit_par = jit_parts(5,2)"
   ]
  },
  {
   "cell_type": "markdown",
   "metadata": {
    "id": "gbaoWV_wmW2a"
   },
   "source": [
    "### Exercise 2\n",
    "\n",
    "Write a JITted function `distance` to calculate the distance between two particles of dtype `particle_dtype`\n",
    "\n",
    "Here's the `distance` method from the `Particle` class as a reference:\n",
    "\n",
    "```python\n",
    "def distance(self, other):\n",
    "        return ((self.x - other.x)**2 + \n",
    "                (self.y - other.y)**2 + \n",
    "                (self.z - other.z)**2)**.5\n",
    "```"
   ]
  },
  {
   "cell_type": "code",
   "execution_count": 197,
   "metadata": {
    "id": "nLBElV3qmW2a"
   },
   "outputs": [],
   "source": [
    "def distance(part1, part2):\n",
    "    '''calculate the distance between two particles'''\n",
    "    return ((part1['x']-part2['x'])**2 + (part1['y']-part2['y'])**2 + (part1['z']-part2['z'])**2)**.5\n"
   ]
  },
  {
   "cell_type": "code",
   "execution_count": 271,
   "metadata": {
    "id": "XYlCAK_BmW2b"
   },
   "outputs": [
    {
     "data": {
      "text/plain": [
       "0.41795978560227526"
      ]
     },
     "execution_count": 271,
     "metadata": {},
     "output_type": "execute_result"
    }
   ],
   "source": [
    "distance(parts[0], parts[1])"
   ]
  },
  {
   "cell_type": "code",
   "execution_count": 272,
   "metadata": {},
   "outputs": [
    {
     "data": {
      "text/plain": [
       "0.7724826070925548"
      ]
     },
     "execution_count": 272,
     "metadata": {},
     "output_type": "execute_result"
    }
   ],
   "source": [
    "jit_dist = njit()(distance)\n",
    "jit_dist(jit_par[0],jit_par[1])"
   ]
  },
  {
   "cell_type": "markdown",
   "metadata": {
    "id": "BI4i_ONXmW2b"
   },
   "source": [
    "### Exercise 3\n",
    "Modify the original `direct_sum` function (copied below for reference) to instead work a NumPy array of particles.  Loop over each element in the array and calculate its total potential.\n",
    "\n",
    "```python\n",
    "def direct_sum(particles):\n",
    "    \"\"\"\n",
    "    Calculate the potential at each particle\n",
    "    using direct summation method.\n",
    "\n",
    "    Arguments:\n",
    "        particles: the list of particles\n",
    "\n",
    "    \"\"\"\n",
    "    for i, target in enumerate(particles):\n",
    "        for source in (particles[:i] + particles[i+1:]):\n",
    "            r = target.distance(source)\n",
    "            target.phi += source.m / r"
   ]
  },
  {
   "cell_type": "code",
   "execution_count": 203,
   "metadata": {
    "id": "ZEnQMYyjmW2b"
   },
   "outputs": [],
   "source": [
    "def direct_sum(particles):\n",
    "    phi_list = list()\n",
    "    for i, target in enumerate(particles):\n",
    "        phi = 0\n",
    "        for source in np.delete(particles,i,0):\n",
    "            r = distance(target, source)\n",
    "            phi += source[\"m\"]/r\n",
    "        phi_list.append(phi)\n",
    "    return phi_list"
   ]
  },
  {
   "cell_type": "code",
   "execution_count": 204,
   "metadata": {
    "id": "A-SLNdmhmW2b"
   },
   "outputs": [
    {
     "data": {
      "text/plain": [
       "[14.259383610674657,\n",
       " 8.955631343888301,\n",
       " 12.742597249677592,\n",
       " 7.679614496030098,\n",
       " 11.963761943626665]"
      ]
     },
     "execution_count": 204,
     "metadata": {},
     "output_type": "execute_result"
    }
   ],
   "source": [
    "direct_sum(parts)"
   ]
  },
  {
   "cell_type": "code",
   "execution_count": 266,
   "metadata": {},
   "outputs": [],
   "source": [
    "def jit_direct_sum(particles):\n",
    "    phi_list = list()\n",
    "    for i, target in enumerate(particles):\n",
    "        phi = 0\n",
    "        mask = np.zeros((parts.shape[0]),dtype = np.int64)==0\n",
    "        mask[i] = False\n",
    "        pt = parts[mask]\n",
    "        for source in pt:\n",
    "            r = jit_dist(target, source)\n",
    "            phi += source[\"m\"]/r\n",
    "        phi_list.append(phi)\n",
    "    return phi_list"
   ]
  },
  {
   "cell_type": "code",
   "execution_count": 267,
   "metadata": {
    "id": "ZD154T9smW2b"
   },
   "outputs": [],
   "source": [
    "jit_sum = njit()(jit_direct_sum)"
   ]
  },
  {
   "cell_type": "code",
   "execution_count": 268,
   "metadata": {},
   "outputs": [
    {
     "data": {
      "text/plain": [
       "[14.259383610674657,\n",
       " 8.955631343888301,\n",
       " 12.742597249677592,\n",
       " 7.679614496030098,\n",
       " 11.963761943626665]"
      ]
     },
     "execution_count": 268,
     "metadata": {},
     "output_type": "execute_result"
    }
   ],
   "source": [
    "jit_sum(parts)"
   ]
  },
  {
   "cell_type": "code",
   "execution_count": 269,
   "metadata": {},
   "outputs": [
    {
     "name": "stdout",
     "output_type": "stream",
     "text": [
      "45.4 µs ± 2.61 µs per loop (mean ± std. dev. of 2 runs, 10,000 loops each)\n",
      "3.04 µs ± 106 ns per loop (mean ± std. dev. of 2 runs, 100,000 loops each)\n",
      "453 µs ± 165 µs per loop (mean ± std. dev. of 2 runs, 1,000 loops each)\n",
      "7.74 µs ± 1.45 µs per loop (mean ± std. dev. of 2 runs, 100,000 loops each)\n",
      "997 µs ± 57.6 µs per loop (mean ± std. dev. of 2 runs, 1,000 loops each)\n",
      "11.7 µs ± 1.33 µs per loop (mean ± std. dev. of 2 runs, 100,000 loops each)\n",
      "1.3 ms ± 30.9 µs per loop (mean ± std. dev. of 2 runs, 1,000 loops each)\n",
      "9.66 µs ± 165 ns per loop (mean ± std. dev. of 2 runs, 100,000 loops each)\n",
      "2.3 ms ± 275 µs per loop (mean ± std. dev. of 2 runs, 100 loops each)\n",
      "11.7 µs ± 38.8 ns per loop (mean ± std. dev. of 2 runs, 100,000 loops each)\n",
      "3.03 ms ± 49 µs per loop (mean ± std. dev. of 2 runs, 100 loops each)\n",
      "14.2 µs ± 80.5 ns per loop (mean ± std. dev. of 2 runs, 100,000 loops each)\n",
      "4.19 ms ± 146 µs per loop (mean ± std. dev. of 2 runs, 100 loops each)\n",
      "20.6 µs ± 2.93 µs per loop (mean ± std. dev. of 2 runs, 100,000 loops each)\n",
      "5.96 ms ± 314 µs per loop (mean ± std. dev. of 2 runs, 100 loops each)\n",
      "20.9 µs ± 207 ns per loop (mean ± std. dev. of 2 runs, 100,000 loops each)\n",
      "7.45 ms ± 206 µs per loop (mean ± std. dev. of 2 runs, 100 loops each)\n",
      "24.6 µs ± 1 µs per loop (mean ± std. dev. of 2 runs, 10,000 loops each)\n",
      "9.2 ms ± 547 µs per loop (mean ± std. dev. of 2 runs, 100 loops each)\n",
      "31 µs ± 1.93 µs per loop (mean ± std. dev. of 2 runs, 10,000 loops each)\n",
      "14.2 ms ± 86.6 µs per loop (mean ± std. dev. of 2 runs, 100 loops each)\n",
      "33.5 µs ± 232 ns per loop (mean ± std. dev. of 2 runs, 10,000 loops each)\n",
      "14.3 ms ± 364 µs per loop (mean ± std. dev. of 2 runs, 100 loops each)\n",
      "26.9 µs ± 34.7 ns per loop (mean ± std. dev. of 2 runs, 10,000 loops each)\n",
      "16.7 ms ± 1.08 ms per loop (mean ± std. dev. of 2 runs, 100 loops each)\n",
      "30.1 µs ± 283 ns per loop (mean ± std. dev. of 2 runs, 10,000 loops each)\n"
     ]
    }
   ],
   "source": [
    "numbers = np.arange(2,52,4)\n",
    "res = list()\n",
    "tim = list()\n",
    "res_num = list()\n",
    "tim_num = list()\n",
    "for n in numbers:\n",
    "    parts = jit_parts(n,2)\n",
    "    a = %timeit -o -r 2 c = direct_sum(parts)\n",
    "    tim.append(a.best)\n",
    "    res.append(n)\n",
    "    \n",
    "    b = %timeit -o -r 2 d = jit_sum(parts)\n",
    "    tim_num.append(b.best)\n",
    "    res_num.append(n)\n",
    "    "
   ]
  },
  {
   "cell_type": "code",
   "execution_count": 270,
   "metadata": {},
   "outputs": [
    {
     "data": {
      "image/png": "[encoded data removed]",
      "text/plain": [
       "<Figure size 1000x400 with 2 Axes>"
      ]
     },
     "metadata": {},
     "output_type": "display_data"
    }
   ],
   "source": [
    "fig,axes = plt.subplots(1,2, figsize=(10,4))\n",
    "axes[0].plot(res,tim, label = 'regular')\n",
    "axes[0].plot(res_num,tim_num, label = 'numba')\n",
    "axes[1].plot(res_num,tim_num, label = 'numba')\n",
    "axes[0].legend()\n",
    "axes[1].legend()\n",
    "axes[0].set_xlabel('number of particles')\n",
    "axes[0].set_ylabel('time, s')\n",
    "axes[1].set_xlabel('number of particles')\n",
    "axes[1].set_ylabel('time, s');"
   ]
  }
 ],
 "metadata": {
  "celltoolbar": "Slideshow",
  "colab": {
   "provenance": []
  },
  "kernelspec": {
   "display_name": "Python 3 (ipykernel)",
   "language": "python",
   "name": "python3"
  },
  "language_info": {
   "codemirror_mode": {
    "name": "ipython",
    "version": 3
   },
   "file_extension": ".py",
   "mimetype": "text/x-python",
   "name": "python",
   "nbconvert_exporter": "python",
   "pygments_lexer": "ipython3",
   "version": "3.10.7"
  }
 },
 "nbformat": 4,
 "nbformat_minor": 1
}

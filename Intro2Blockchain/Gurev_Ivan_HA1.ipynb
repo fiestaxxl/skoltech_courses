{
 "cells": [
  {
   "cell_type": "markdown",
   "metadata": {},
   "source": [
    "## Pre-requisite:\n",
    "1. Generate 2 Ethereum testnet addresses (address_1, address_2)\n",
    "2. Keep Address_1 as your main test address (use the Sepolia test network)."
   ]
  },
  {
   "cell_type": "code",
   "execution_count": 2,
   "metadata": {},
   "outputs": [],
   "source": [
    "#Defining Libraries:\n",
    "import os\n",
    "import ecdsa\n",
    "from Cryptodome.Hash import keccak\n",
    "\n",
    "\n",
    "def sha3(a):\n",
    "    keccak_hash = keccak.new(digest_bits=256)\n",
    "    keccak_hash.update(a)\n",
    "    return '0x' + keccak_hash.hexdigest()[24:]\n",
    "\n",
    "#Function for Checksum\n",
    "def checksum_encode(addr_str): # Takes a hex (string) address as input\n",
    "    keccak_hash = keccak.new(digest_bits=256)\n",
    "    out = ''\n",
    "    addr = addr_str.lower().replace('0x', '')\n",
    "    keccak_hash.update(addr.encode('ascii'))\n",
    "    hash_addr = keccak_hash.hexdigest()\n",
    "    for i, c in enumerate(addr):\n",
    "        #print(i,c, hash_addr[i])\n",
    "        if int(hash_addr[i], 16) >= 8:\n",
    "            out += c.upper()\n",
    "        else:\n",
    "            out += c\n",
    "    return '0x' + out\n",
    "\n",
    "\n",
    "def test(addrstr):\n",
    "    assert(addrstr == checksum_encode(addrstr))\n",
    "\n",
    "def ecdsa_maths(private_key_from_hex):\n",
    "    sk = ecdsa.SigningKey.from_string(private_key_from_hex, curve = ecdsa.SECP256k1)\n",
    "    #actual publickey to verify messages that singed using own pvt key\n",
    "    verification_key = sk.verifying_key\n",
    "    #making Public Key:\n",
    "    public_key =  verification_key.to_string()\n",
    "    #print(public_key.hex())\n",
    "    return public_key\n",
    "\n",
    "def address(passwrd):\n",
    "    address = sha3(ecdsa_maths(passwrd))\n",
    "    #print(\"Raw_Address\", address,'\\n')\n",
    "    print(f'\\nPrivate Key: {passwrd.hex()}\\nChecksum Address: {checksum_encode(address)}')\n",
    "    return checksum_encode(address), passwrd.hex()"
   ]
  },
  {
   "cell_type": "code",
   "execution_count": 3,
   "metadata": {},
   "outputs": [
    {
     "name": "stdout",
     "output_type": "stream",
     "text": [
      "\n",
      "Private Key: 1e3a0ea1f029867245be21971329faab51c2fcf844b28bb7622201bee631f1ca\n",
      "Checksum Address: 0xBD813Ae2347e85F0723A83582AeDc08412B8B243\n",
      "\n",
      "Private Key: 9b65ccb180d3af963184aee6f1576680fc00e877a6b8022dd4dc0d163347f937\n",
      "Checksum Address: 0xA5403C040D9b7de2CD3bF0974A4516219407b88D\n"
     ]
    }
   ],
   "source": [
    "def random_key():\n",
    "        private_key = os.urandom(32).hex()\n",
    "        return bytes.fromhex(private_key)\n",
    "\n",
    "password = b'\\x1e:\\x0e\\xa1\\xf0)\\x86rE\\xbe\\x21\\x97\\x13)\\xfa\\xabQ\\xc2\\xfc\\xf8D\\xb2\\x8b\\xb7b\"\\x01\\xbe\\xe61\\xf1\\xca'\n",
    "address_1, private_key1 = address(password)\n",
    "password = b'\\x9be\\xcc\\xb1\\x80\\xd3\\xaf\\x96\\x31\\x84\\xae\\xe6\\xf1Wf\\x80\\xfc\\x00\\xe8w\\xa6\\xb8\\x02-\\xd4\\xdc\\r\\x163G\\xf97'\n",
    "address_2, private_key2 = address(password)"
   ]
  },
  {
   "cell_type": "markdown",
   "metadata": {},
   "source": [
    "## Task:\n",
    "* (1 point) Create a user-interacting interface to connect to different blockchain networks, i.e., mainnet, testnets (any two), and ganache (Hint: Take input from the User and use the if-else method to connect to different networks. User different Infura/Alchemy Endpoints)."
   ]
  },
  {
   "cell_type": "code",
   "execution_count": 4,
   "metadata": {},
   "outputs": [],
   "source": [
    "from web3 import Web3\n",
    "\n",
    "class Interface:\n",
    "\n",
    "    def connect_to_web(self):\n",
    "        print(\"\\nProvide a link to a network\")\n",
    "\n",
    "        testnet_url = str(input())\n",
    "        '''\n",
    "        if net =='main':\n",
    "            testnet_url = 'https://eth-mainnet.g.alchemy.com/v2/RBkI6V3iQvUhearJcH5muyoMJwxJu7Lp'\n",
    "        elif net =='goerli':\n",
    "            testnet_url = 'https://goerli.infura.io/v3/82d61aeb5732496aa0a4d98e9d82dbe5'\n",
    "        elif net =='sepolia':\n",
    "            testnet_url = 'https://eth-sepolia.g.alchemy.com/v2/zcri9jBzeaPSwr9yi2mkhz1aW4qEB6GQ'\n",
    "        elif net == 'ganache':\n",
    "            testnet_url = 'http://127.0.0.1:7545'\n",
    "        '''\n",
    "        web3 = Web3(Web3.HTTPProvider(testnet_url))\n",
    "        print(\"Connected to Testnet:\",web3.is_connected())\n",
    "        return web3"
   ]
  },
  {
   "cell_type": "markdown",
   "metadata": {},
   "source": [
    "* (1 point) Get some Ethereum test coins to your testnet address_1 from faucet B. Provide the Transaction link of the testnet work."
   ]
  },
  {
   "cell_type": "markdown",
   "metadata": {},
   "source": [
    "https://sepolia.etherscan.io/tx/0x582dc67d900a16c6e6484a702f213a04c0438a87e0c6e427d0268bd68d626a9d"
   ]
  },
  {
   "cell_type": "markdown",
   "metadata": {},
   "source": [
    "* (2 points) From Task_1, connect to the Ethereum network and provide codes to interact with the blockchain (Testnet will be better):\n",
    " 1. Checking block height at any time.\n",
    " 2. Getting information about a block.\n",
    " 3. Get balance information of your address_1.\n",
    " 4. From Task 4.3. Convert the balance to ether.\n",
    "(Hint: https://web3js.readthedocs.io/en/v1.2.4/Links to an external site. or https://web3py.readthedocs.io/Links to an external site.)"
   ]
  },
  {
   "cell_type": "code",
   "execution_count": 5,
   "metadata": {},
   "outputs": [
    {
     "name": "stdout",
     "output_type": "stream",
     "text": [
      "\n",
      "Provide a link to a network\n",
      "Connected to Testnet: True\n"
     ]
    }
   ],
   "source": [
    "infs = Interface()\n",
    "web3_connect = infs.connect_to_web()"
   ]
  },
  {
   "cell_type": "code",
   "execution_count": 25,
   "metadata": {},
   "outputs": [
    {
     "data": {
      "text/plain": [
       "5348304"
      ]
     },
     "execution_count": 25,
     "metadata": {},
     "output_type": "execute_result"
    }
   ],
   "source": [
    "#block height\n",
    "web3_connect.eth.get_block('latest')['number']"
   ]
  },
  {
   "cell_type": "code",
   "execution_count": 26,
   "metadata": {},
   "outputs": [
    {
     "data": {
      "text/plain": [
       "AttributeDict({'baseFeePerGas': 2154694891,\n",
       " 'blobGasUsed': '0xc0000',\n",
       " 'difficulty': 0,\n",
       " 'excessBlobGas': '0x4b40000',\n",
       " 'extraData': HexBytes('0x4e65746865726d696e64'),\n",
       " 'gasLimit': 30000000,\n",
       " 'gasUsed': 13837781,\n",
       " 'hash': HexBytes('0x90d060505ee20e9471f79182f4507a31ed0398b654b3729492d333097265e930'),\n",
       " 'logsBloom': HexBytes('0x8824300ec06020c820598e020018e552009940480d11200342940ecac03943306248002080200409bd18ab04142c0a832422004232a2c324951012c0a42400245a00980390cf8103e00845ba01000a8cc40058849c85605a4400a804404142208a657439537163b8e69c42470500382585092cc0010091902180865400480f1000804408c3a0950c32015d30084810025001048c8081280459105810075635684e0a02b208a40ce2c0404e400000022c0a5040184104b820249d28200c00009480901043860800100441020b0c1aa015c0b3141010cb40040bb0b4dc80826009155401048e8824b0c48eb88060c00884080202b82a320000d060320480205225'),\n",
       " 'miner': '0x1268AD189526AC0b386faF06eFfC46779c340eE6',\n",
       " 'mixHash': HexBytes('0xac4a91f52476dfbfbf43db72653f83736feb60af0190b718f5c820506f8f058b'),\n",
       " 'nonce': HexBytes('0x0000000000000000'),\n",
       " 'number': 5328313,\n",
       " 'parentBeaconBlockRoot': '0x07f947bb54c15ef4a6a82c1aa14dc464e446bdbbf3feabbcf72570f8bd9e000a',\n",
       " 'parentHash': HexBytes('0xf2768cceed32547e492364e8020f02ce659bdc384cb13d0c5b29c1955b8d8989'),\n",
       " 'receiptsRoot': HexBytes('0x5d16e8e5a54dd1ee01b29f6cced52bedff4500f5665d596e9a84a3b3b199aec9'),\n",
       " 'sha3Uncles': HexBytes('0x1dcc4de8dec75d7aab85b567b6ccd41ad312451b948a7413f0a142fd40d49347'),\n",
       " 'size': 332356,\n",
       " 'stateRoot': HexBytes('0xddf54aead337301197dda8dc17daa5113b40bcf7510bab2db720b3f8a8fd39e8'),\n",
       " 'timestamp': 1708444812,\n",
       " 'totalDifficulty': 17000018015853232,\n",
       " 'transactions': [HexBytes('0x5f50a3d6e443f03cf635413a964024d3d0c6d7d0721961bb3a49f17b41adfacd'),\n",
       "  HexBytes('0xc0409d6aebfbe7ae53b9aa8bb42558500b06219e7307624f28e44da8584ba98a'),\n",
       "  HexBytes('0x1b24b46233773840950f705e0ec1703f8e276bd1628a1cbebe3da0a2c36a9da4'),\n",
       "  HexBytes('0x6e4fce8364fb05cf5e9396c8ee2adfd9b0216e48f2376d200d76a9444016d5a8'),\n",
       "  HexBytes('0x7977e2e2621a5e63e501d692eec652ea86516c68e1695469406b862ade8984d1'),\n",
       "  HexBytes('0x380fd2a52c23bf554752d1738d745f2db23eb49e1422dae2f07ec0da22a9e876'),\n",
       "  HexBytes('0x51032048de52329900c1290bcde19ac49eb7b7ea8c1ad81a698136744373d7d7'),\n",
       "  HexBytes('0xcfc0ac6e24fe03227cad7e8e580f3573581ef614069ceaa49b5b47180d0f791d'),\n",
       "  HexBytes('0x27c14219971f4e918d41081dc1003ae8b0879db269bb45d1b489bbfbe324b15c'),\n",
       "  HexBytes('0x43b9cd60ff3ae2536db26db9bafe67a9f9bb99a95de851d91dc5cfc96a4e3147'),\n",
       "  HexBytes('0x8be8cb4ec0c413de140b9c9f932b912140e83652c502af1ee30bef70d7fe2113'),\n",
       "  HexBytes('0x7eeefc2085e389d87c971971eb6dd0bc314ebd1c5c93cdb73dd49bfc9aab25a7'),\n",
       "  HexBytes('0x83df81ff66151d460b05a3bee9f1b0664859a0245d49f7146db3e61be2ba69b6'),\n",
       "  HexBytes('0xf1019af1c3f00151171ceb53430393e0f627c452b7877ed5962dce8b93d0a20f'),\n",
       "  HexBytes('0x1c6925c3ec414ca1944e8425c92c8a5158dbe9bd53cd912ada4c2055b539c6bc'),\n",
       "  HexBytes('0xf665504dce24097fd1169026afaa158f3f9a2eb1f6a1757de1f1556c486d4992'),\n",
       "  HexBytes('0x170c22c52df7dffb37a4e45502f7e9eb97f5a77d242dc5e0eb756614cfe7fea5'),\n",
       "  HexBytes('0xdb6eb6cf67d63d35e96f0be246859f6332cbfb1f0774de7ac0e68b34c89aa62d'),\n",
       "  HexBytes('0x22df92f9f4166d319cd43eac8383da9e17f332a16422284792bd7774b92e6ecd'),\n",
       "  HexBytes('0xe865fc1118e679c8936be82bcc61e5f6abc4739be4c03dc4b3554fa607304e9f'),\n",
       "  HexBytes('0x0b6556c9e988acb554e5f53f25b02b65021a99672dbf2354eba40f3b18e1d3da'),\n",
       "  HexBytes('0x757ba8a0f3a39cb315556b406174a052973a2232acfa7e8d8146a6babe3569ed'),\n",
       "  HexBytes('0x931250b6e2cdbb79b9b76b74d1281180cf82450c4f2114451b7c9e02d7313d8a'),\n",
       "  HexBytes('0x916a4e3aed28eb25bec93ce6abb6b665da8402c5f5b86c94d0c46ee7871e1a5b'),\n",
       "  HexBytes('0x35745dedd5d1a14ee38ffafaf4c89b3cb533e29c6fa9281d1c02cc7ca50b8728'),\n",
       "  HexBytes('0xea5497a10fe3fda8ba71dc60bc82fb8003e6e1b478b24ffc512563ea54298594'),\n",
       "  HexBytes('0x8689ecd57c4a2b8dea102ec8d492c2b1a61c23a9583eecabb49cf7d937cd81ca'),\n",
       "  HexBytes('0xff841b1e89d042406ad370347112854195f4693bb8fe1eed4fe68b96710bf2af'),\n",
       "  HexBytes('0x3b154d29abba839f96a37692d592772bfe94e6381adf42bc5e3e7d365c7a06df'),\n",
       "  HexBytes('0xc1d39d761ac66479802f2bd504ed274ecb0607abc672e1b1989ea3a1b334340d'),\n",
       "  HexBytes('0xbdf34853b37afa2d361f1d17bd2a6b8127a9d342477f4c2d3e58c105f386f14d'),\n",
       "  HexBytes('0x5c216c55b3e7f2f99fc6c90291ef76a30fc209d4a087fe57a48372e9c309292a'),\n",
       "  HexBytes('0x40436ae69274d03a5230a00a7cde83be5a8be4b536895a718f45e7edec1282c2'),\n",
       "  HexBytes('0x828abb8260f212e5c14902f67b51ab15305f096218e812d80a09f93ab799a632'),\n",
       "  HexBytes('0x02d7fb505380a64d1bb799043e93f4ba5d2b0c006250a9aed7c0a365172b5646'),\n",
       "  HexBytes('0x208237d2723fa2f33636c4d33bd0e6e2ce344c323099bd7ef16ae17a87d4526e'),\n",
       "  HexBytes('0x70472c94ccf0764dbe211249bd0204a394dca5661ba793744feeb56bbdcd3725'),\n",
       "  HexBytes('0xe453dea5e444ecfc493dab96859d53d8c7dc71105fa0ef0e682440e434047e5a'),\n",
       "  HexBytes('0x25b3b3376e2f8e267bb239d6a4db1f5816a9b9d5656fc0f3e5aa838443d35b57'),\n",
       "  HexBytes('0xab942818d5ddb7439d88dc0bda26cdb776a13da7bbe74318b28b4a139e5a3589'),\n",
       "  HexBytes('0xec3c381b28ac72d3f09af433b9ecea312181eeec25080d684a80895197967864'),\n",
       "  HexBytes('0xecb0d1aa4dbdf1786d85c3dd865a59e774c4899ce990266fc4079220e5c84364'),\n",
       "  HexBytes('0xb60674890ad58435284b4ad05a16f6a196a9cf0858961e2186e5f4361fce102a'),\n",
       "  HexBytes('0x13a8bd0de30b55c269faf072c8852d1df4e75b03f375a5ab5aa343342b80d1a5'),\n",
       "  HexBytes('0xbc72ddf8248f6088fca8cec183edc12c3bda9f65d0cb135493d40c98a81af1d2'),\n",
       "  HexBytes('0x95507039ff4664b0b551c95c5d397f466beae1d3fb592a30514894427e13a9ab'),\n",
       "  HexBytes('0x7f65240fa7e0dfbdfb759ad98fdcdfb616c0eddad1f9c70eef4ec3404a243f5b'),\n",
       "  HexBytes('0x01fb91a4af1dc0fb7e712776c80f15b65ce2961c659ced2e502226cfce6013c4'),\n",
       "  HexBytes('0x57d99c4ab1d40c01386a06e0977389ec151539f11ca7e5ced9d2186612c6b4c1'),\n",
       "  HexBytes('0xdb972fbc8cc4256f746b6193fc3990542b4eeb4bd5dc865cb67f1d26618bf34e'),\n",
       "  HexBytes('0x7f576ff2cfd271eaef57c359c26182639047b52bd76f2968d67f40b9bc2ad1b1'),\n",
       "  HexBytes('0x5855107b60e5feab96ba3c5506215f86e8f15427776af03396e66a8bada70132'),\n",
       "  HexBytes('0xa29ce182e3d8bb9bc005ed5271170d88110557c72b9510129302165ac10692f9'),\n",
       "  HexBytes('0x90a486fdae5af4615acd3ff4107e79e8a2c9b5d02afa4e653e9e1634ec3606ef'),\n",
       "  HexBytes('0xacc253dfa6f174b7fa8d368e2052571382cb4958df282f1baf4c74f7b232b1e4'),\n",
       "  HexBytes('0x69eca699ffd79a38efdd1742c68d206154cc3e0f8a9aba7b14fda8b25c837de7'),\n",
       "  HexBytes('0x2e52f69a7b02d825159a4fd52ebfc28d375f142e85653ebada483de682b9c188'),\n",
       "  HexBytes('0xa92ce05ef6e0e4c2ce79ec98a39456d89d1933e6269dc8b81a56911203beecc1'),\n",
       "  HexBytes('0x0df1c13b821dd7ae7f9b90dd7948d3721a7a6144fadf67ad4dfeb36896cb7a76'),\n",
       "  HexBytes('0x6f1ca3297658908a126d0baf8d5356474f8bacf29c2f37bbab7785fe6ac07345'),\n",
       "  HexBytes('0x5830bca5a4771e96e19f067583dfa28bf7491b53be5b9f93b55f32f5c28733c4'),\n",
       "  HexBytes('0x11670bb931f5f7e672b18be88ec9b299ad65f28575a199850f91787d993ff250'),\n",
       "  HexBytes('0x4962212babab239fbf6d5e49200be6c56b2ae846f5db5c9951366bac6c2c5b1c'),\n",
       "  HexBytes('0x528c7c76293d000d044ac092846ea238adf148b1f7586eb966ac4148cc86693c'),\n",
       "  HexBytes('0x63c0f3170f69943fd12d0f624dc1bdbeb322358b0d5e019a28fac7a056dc9da7'),\n",
       "  HexBytes('0x45b8512d783c21a150975c93c0fa72fe5f298b31e5d74a9dcd05069040b65a73'),\n",
       "  HexBytes('0x30ca081aa94d31952c1cf863d531176e29ae46ec17fd57c655f1a871213167e8'),\n",
       "  HexBytes('0x0b75fc3a7109d3c83a209414517adb0227e400b2ae290987039f3bd777164ad3'),\n",
       "  HexBytes('0xea19b8208fa5342d5978c9b810996a09e2d4ae1e7f5c5b456c607e772cf31275'),\n",
       "  HexBytes('0xdb95a22a1218ddcca06447fcdb4c9817d177a3bfcb26ac377843daf5758a8ce9'),\n",
       "  HexBytes('0xb361653c6e11f13e9c929cd725cb45e991c9c3210fa5cb12188abca4de65cd08'),\n",
       "  HexBytes('0xf3b36c067be9beb0166f457f006eecd4b051697e0e0ec61e2c7ee2085dd6e2b9'),\n",
       "  HexBytes('0xa23914b0323c1cd8e936fc7c4ab92560546212959bf4d1a6f73b02119657008e'),\n",
       "  HexBytes('0xddd0e7c523e0c9925f112d88a09e2586e9006754e2f2b235314c8385e2ef3585'),\n",
       "  HexBytes('0x0b81f29510a4d5928b0ae458c2b0d2bbdcfab17831a2503412d2dd8851974870'),\n",
       "  HexBytes('0x5839e6a2b130c4d005226b3be91973dfa95b5c8f97dad58955886ebba075822c'),\n",
       "  HexBytes('0x6ad483dbb71dea0bd1512339481cf1f7fa10a0e70f2502a627e13e0e61409eda'),\n",
       "  HexBytes('0xc9093116bfa0a66b13448abb5ca72682020735a0b283ec7ecc5fedbb2f1fe549'),\n",
       "  HexBytes('0xa9c42a28b7693080bb11c87aceb1e4801a84283ca6841b5f45a6545e3447f885'),\n",
       "  HexBytes('0xa2a2c32e0e1aa53ca5c783faee6a22b8b85b6830d783cd43a0a200a27e305e8d'),\n",
       "  HexBytes('0x589d73ca484bc416b5d0200cdda258fc602d4242575534358ec81a239b0d5fb7'),\n",
       "  HexBytes('0x572ed7f1980b57e88a6e6fd06a8c00df1f2e7a49ee47050adba79144287ac15d'),\n",
       "  HexBytes('0x7fe1ac1a672c158145cb70664bbcdd123688c4fd8a175dd987df841b52cb77e6'),\n",
       "  HexBytes('0x5b21efdacdd3ba3632fd938e487a2d020f2de2d20931391e6ce84125e2e90d2a'),\n",
       "  HexBytes('0xe393adcf5c0c5dd6e3b9ba537740ea9373e396ca6be1b7d06cb89f545d34ae57'),\n",
       "  HexBytes('0x2974fb6c0faeb493461621a4e1d954dec59834bde293a01113022abda8a07c73'),\n",
       "  HexBytes('0x2d7937b13ff517ad540efb7375fdfefc0c778cf116400f00cddeea9c4f0a4bad'),\n",
       "  HexBytes('0x578906bb169315b76d48d0f851a8596ab09a2df71c0262e6c9c2fd3653802f87'),\n",
       "  HexBytes('0x5a40c2679eaacb8a3e62c2a34b8fcdb6c5096d8e3603d0499418ab1d5215d66a'),\n",
       "  HexBytes('0xd05ad34ae8a997f06174cfaced5227dae702a6bd6ef7fa08e68e58480de1d26c'),\n",
       "  HexBytes('0xafce1651bc65ac2b83a927f5ad8e0c5a262bc31fbd1b6d43c69311615d9c0ae8'),\n",
       "  HexBytes('0x8c638c4f1a9d9921e50a605eca9b6c213b2f1f428a1e63c32fd90c309106d90d'),\n",
       "  HexBytes('0x045394be23007157fec098b8f64708f74d3ae57835e5d395427a292b12a871d5'),\n",
       "  HexBytes('0x349f895b49276664eb9bcfa5ca164330fc9403e2fa1f284f0ca19cef80825d6d'),\n",
       "  HexBytes('0xdd6e02b0e4806aebf2243b79724e334fa3554ee82df1eb5ffb4c78a849531933'),\n",
       "  HexBytes('0xc05f9c167994acc256449bf11dd7b1d20976380d1bebecad7efd6df1caf10488'),\n",
       "  HexBytes('0x65c0bcbcc74e5b961843da9950f1f102c2567c99d79eee63aeebe086df9ae619'),\n",
       "  HexBytes('0xb1445b7b2591ea4035c800fa9d11e795726044802b133abf390da42645b8f382'),\n",
       "  HexBytes('0xb8139c3a5964986830ac22a8b3905061d0aa7f3d199fcc8cac9e405bd90e08e0'),\n",
       "  HexBytes('0xe093ad74628fa3b5fb70c4fb74702f8be5aa88f774cd5ac9335368c32c32f6a8'),\n",
       "  HexBytes('0x8dab8e9c342e2904c984eda09e6f9866d577963eeba728aafab4c9658db102b1'),\n",
       "  HexBytes('0x53415e836169904ec4af781cfc10f433e7206e02ad0d432bfc1d20bc359c13be'),\n",
       "  HexBytes('0x01f61d1a2196df4cbd5ce87b60357fb4c5e8806d4776edafe72d6c36adee069b'),\n",
       "  HexBytes('0x0d0c16826382c96bc9a385ef148dbb16edb4f1cb60a7c7c469ae61c1ce1470e7')],\n",
       " 'transactionsRoot': HexBytes('0xe155bfd9d026935516abd084d3db2269cd5e086acd54820dbde7bc2342c8b0f2'),\n",
       " 'uncles': [],\n",
       " 'withdrawals': [AttributeDict({'index': 37392352,\n",
       "   'validatorIndex': 452,\n",
       "   'address': '0x25c4a76E7d118705e7Ea2e9b7d8C59930d8aCD3b',\n",
       "   'amount': 3776}),\n",
       "  AttributeDict({'index': 37392353,\n",
       "   'validatorIndex': 455,\n",
       "   'address': '0x25c4a76E7d118705e7Ea2e9b7d8C59930d8aCD3b',\n",
       "   'amount': 3776}),\n",
       "  AttributeDict({'index': 37392354,\n",
       "   'validatorIndex': 456,\n",
       "   'address': '0x25c4a76E7d118705e7Ea2e9b7d8C59930d8aCD3b',\n",
       "   'amount': 3776}),\n",
       "  AttributeDict({'index': 37392355,\n",
       "   'validatorIndex': 459,\n",
       "   'address': '0x25c4a76E7d118705e7Ea2e9b7d8C59930d8aCD3b',\n",
       "   'amount': 3776}),\n",
       "  AttributeDict({'index': 37392356,\n",
       "   'validatorIndex': 460,\n",
       "   'address': '0x25c4a76E7d118705e7Ea2e9b7d8C59930d8aCD3b',\n",
       "   'amount': 3776}),\n",
       "  AttributeDict({'index': 37392357,\n",
       "   'validatorIndex': 464,\n",
       "   'address': '0x25c4a76E7d118705e7Ea2e9b7d8C59930d8aCD3b',\n",
       "   'amount': 3776}),\n",
       "  AttributeDict({'index': 37392358,\n",
       "   'validatorIndex': 465,\n",
       "   'address': '0x25c4a76E7d118705e7Ea2e9b7d8C59930d8aCD3b',\n",
       "   'amount': 3776}),\n",
       "  AttributeDict({'index': 37392359,\n",
       "   'validatorIndex': 470,\n",
       "   'address': '0x25c4a76E7d118705e7Ea2e9b7d8C59930d8aCD3b',\n",
       "   'amount': 3776}),\n",
       "  AttributeDict({'index': 37392360,\n",
       "   'validatorIndex': 476,\n",
       "   'address': '0x25c4a76E7d118705e7Ea2e9b7d8C59930d8aCD3b',\n",
       "   'amount': 3776}),\n",
       "  AttributeDict({'index': 37392361,\n",
       "   'validatorIndex': 479,\n",
       "   'address': '0x25c4a76E7d118705e7Ea2e9b7d8C59930d8aCD3b',\n",
       "   'amount': 3776}),\n",
       "  AttributeDict({'index': 37392362,\n",
       "   'validatorIndex': 484,\n",
       "   'address': '0x25c4a76E7d118705e7Ea2e9b7d8C59930d8aCD3b',\n",
       "   'amount': 3776}),\n",
       "  AttributeDict({'index': 37392363,\n",
       "   'validatorIndex': 486,\n",
       "   'address': '0x25c4a76E7d118705e7Ea2e9b7d8C59930d8aCD3b',\n",
       "   'amount': 3776}),\n",
       "  AttributeDict({'index': 37392364,\n",
       "   'validatorIndex': 490,\n",
       "   'address': '0x25c4a76E7d118705e7Ea2e9b7d8C59930d8aCD3b',\n",
       "   'amount': 3776}),\n",
       "  AttributeDict({'index': 37392365,\n",
       "   'validatorIndex': 498,\n",
       "   'address': '0x25c4a76E7d118705e7Ea2e9b7d8C59930d8aCD3b',\n",
       "   'amount': 3776}),\n",
       "  AttributeDict({'index': 37392366,\n",
       "   'validatorIndex': 903,\n",
       "   'address': '0xE276Bc378A527A8792B353cdCA5b5E53263DfB9e',\n",
       "   'amount': 2832}),\n",
       "  AttributeDict({'index': 37392367,\n",
       "   'validatorIndex': 904,\n",
       "   'address': '0xE276Bc378A527A8792B353cdCA5b5E53263DfB9e',\n",
       "   'amount': 2832})],\n",
       " 'withdrawalsRoot': HexBytes('0xdfa16e135d3663ddf3d2c1acfc53b53799142c4e7fa3aa41aa110744412258c8')})"
      ]
     },
     "execution_count": 26,
     "metadata": {},
     "output_type": "execute_result"
    }
   ],
   "source": [
    "#info about the block\n",
    "web3_connect.eth.get_block(5328313)"
   ]
  },
  {
   "cell_type": "code",
   "execution_count": 27,
   "metadata": {},
   "outputs": [
    {
     "data": {
      "text/plain": [
       "Decimal('0.4429')"
      ]
     },
     "execution_count": 27,
     "metadata": {},
     "output_type": "execute_result"
    }
   ],
   "source": [
    "#obtaining balance in ether\n",
    "balance_in_Wei = web3_connect.eth.get_balance(address_1)\n",
    "web3_connect.from_wei(balance_in_Wei, 'ether')"
   ]
  },
  {
   "cell_type": "markdown",
   "metadata": {},
   "source": [
    "* (1 point) Send some Eth test coins from address_1 to address_2 and provide Transaction_ID. (Use seminar file, not Metamask)"
   ]
  },
  {
   "cell_type": "code",
   "execution_count": 28,
   "metadata": {},
   "outputs": [
    {
     "name": "stdout",
     "output_type": "stream",
     "text": [
      "Transaction_id: 0xb967e9ef81cad5e6b478914a3ffbd101b1a8ea43f5a56b928848db1c89c7f912\n"
     ]
    }
   ],
   "source": [
    "\n",
    "tx = {\n",
    "      'nonce':web3_connect.eth.get_transaction_count(address_1),\n",
    "      'to': address_2,\n",
    "      'value': web3_connect.to_wei(float(0.05),'ether'),\n",
    "      'gas':200000,\n",
    "      'gasPrice':web3_connect.to_wei('50','gwei')\n",
    "      }\n",
    "\n",
    "signed_tx = web3_connect.eth.account.sign_transaction(tx,private_key1)\n",
    "\n",
    "tx_hash = web3_connect.eth.send_raw_transaction(signed_tx[\"rawTransaction\"]).hex()\n",
    "print('Transaction_id:', tx_hash)"
   ]
  },
  {
   "cell_type": "markdown",
   "metadata": {},
   "source": [
    "* (2 points) Create a smart contract to add two numbers. (Hint:\n",
    "1. Use ide http://remix.ethereum.org/Links to an external site..\n",
    "2. Use any version of the compiler.\n",
    "3. Create a function add (passing two parameters from User) variables declared in the state variable.\n",
    "4. Connect to any blockchain.\n",
    "5. Just provide the code.\n",
    "6. Reference document: https://docs.soliditylang.org/en/v0.8.24/)."
   ]
  },
  {
   "cell_type": "markdown",
   "metadata": {},
   "source": [
    "pragma solidity >= 0.8.0;\n",
    "\n",
    "contract summation{\n",
    "    uint public val=1;\n",
    "\n",
    "    function add(uint number_1, uint number_2) public returns(uint){\n",
    "        val = number_1+number_2;\n",
    "        return val;\n",
    "    }\n",
    "}"
   ]
  },
  {
   "cell_type": "markdown",
   "metadata": {},
   "source": [
    "\n",
    "* (3 points) Create an ERC20 smart contract:\n",
    "1. Create 100 tokens.\n",
    "2. Deploy the contract from address_2. Provide contract creation transaction_id and contract address (the address created when the contract is deployed) and a 3-letter abbreviation of your coin. We will check the existence of the sepolia testnet.\n",
    "3. Send ten tokens to 0x80773c866332a7f3CFdD583d0b3A96655F035d6C address. (Provide Transaction Id)"
   ]
  },
  {
   "cell_type": "markdown",
   "metadata": {},
   "source": [
    "// contracts/GLDToken.sol\n",
    "// SPDX-License-Identifier: MIT\n",
    "\n",
    "\n",
    "pragma solidity ^0.8.0;\n",
    "\n",
    "import \"@openzeppelin/contracts/token/ERC20/ERC20.sol\";\n",
    "\n",
    "contract SampleErc is ERC20 {\n",
    "    constructor(string memory TokenName, string memory TokenSymbol) ERC20(TokenName, TokenSymbol) {\n",
    "        _mint(msg.sender, 100);\n",
    "    }\n",
    "\n",
    "    function decimals() public view virtual override returns (uint8) {\n",
    "    return 0;\n",
    "    }\n",
    "}"
   ]
  },
  {
   "cell_type": "markdown",
   "metadata": {},
   "source": [
    "\n",
    "\n",
    "Contract creation transaction id: 0x8e7200305e325ed2994b48970c84b312d95ce0ac36cf6157a7e4004410afb520\n",
    "\n",
    "Contract address: 0x4278e1f857eb0573fb1aa0e38f8c7f816a6d6a2d\n",
    "\n",
    "Abbreviation: FST\n",
    "\n",
    "Transaction id: 0x574e1c4f82450a71e8304e55a898cdb9ccfb9495760f7520d1d28ff38e53e078"
   ]
  }
 ],
 "metadata": {
  "kernelspec": {
   "display_name": "Python 3",
   "language": "python",
   "name": "python3"
  },
  "language_info": {
   "codemirror_mode": {
    "name": "ipython",
    "version": 3
   },
   "file_extension": ".py",
   "mimetype": "text/x-python",
   "name": "python",
   "nbconvert_exporter": "python",
   "pygments_lexer": "ipython3",
   "version": "3.10.12"
  }
 },
 "nbformat": 4,
 "nbformat_minor": 2
}

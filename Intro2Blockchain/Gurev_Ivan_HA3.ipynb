{
 "cells": [
  {
   "cell_type": "markdown",
   "metadata": {},
   "source": [
    "# HW 3"
   ]
  },
  {
   "cell_type": "markdown",
   "metadata": {},
   "source": [
    "### Problem 1 (1 points)"
   ]
  },
  {
   "cell_type": "markdown",
   "metadata": {},
   "source": [
    "Diffie–Hellman key exchange protocol is one of the earliest practical examples of public key exchange implemented within the field of cryptography. Published in 1976 by Diffie and Hellman, this is the earliest publicly known work that proposed the idea of a private key and a corresponding public key. "
   ]
  },
  {
   "cell_type": "markdown",
   "metadata": {},
   "source": [
    "1. Implement function to generate common secret key within multiplicative group of given Finite field with known generator\n",
    "\n",
    "*Note. You can assume that all the numbers are small, for example, less than $2^{16}$.*"
   ]
  },
  {
   "cell_type": "code",
   "execution_count": 1,
   "metadata": {},
   "outputs": [
    {
     "data": {
      "text/plain": [
       "4"
      ]
     },
     "execution_count": 1,
     "metadata": {},
     "output_type": "execute_result"
    }
   ],
   "source": [
    "from random import randint\n",
    "\n",
    "def generate_common_key(p,g, private_keys=None):\n",
    "    # Generate random private keys for each party\n",
    "    if private_keys is None:\n",
    "        private_key_A = randint(1, p-1)\n",
    "        private_key_B = randint(1, p-1)\n",
    "    else:\n",
    "        private_key_A = private_keys['A']\n",
    "        private_key_B = private_keys['B']\n",
    "\n",
    "    # Calculate public keys for each party\n",
    "    public_key_A = pow(g, private_key_A, p)\n",
    "    public_key_B = pow(g, private_key_B, p)\n",
    "\n",
    "    # Calculate the common secret key using the public keys\n",
    "    common_secret_key_A = pow(public_key_B, private_key_A, p)\n",
    "    common_secret_key_B = pow(public_key_A, private_key_B, p)\n",
    "\n",
    "    # Check if the common secret keys match\n",
    "    assert common_secret_key_A == common_secret_key_B\n",
    "\n",
    "    return common_secret_key_A\n",
    "\n",
    "generate_common_key(17,11)\n"
   ]
  },
  {
   "cell_type": "markdown",
   "metadata": {},
   "source": [
    "2. Test your solution in GF(17) with generator g=11. Bobs' open key B=11, Alice private key is a=7"
   ]
  },
  {
   "cell_type": "code",
   "execution_count": 2,
   "metadata": {},
   "outputs": [
    {
     "data": {
      "text/plain": [
       "7"
      ]
     },
     "execution_count": 2,
     "metadata": {},
     "output_type": "execute_result"
    }
   ],
   "source": [
    "private_keys = {'A':7,\n",
    "                'B':11}\n",
    "\n",
    "generate_common_key(17,11,private_keys)"
   ]
  },
  {
   "cell_type": "markdown",
   "metadata": {},
   "source": [
    "### Problem 2 (2 points)"
   ]
  },
  {
   "cell_type": "markdown",
   "metadata": {},
   "source": [
    "We will implement an example which demonstrates RSA public-key cryptography in an easy-to-follow manner. It should work on integers alone, and use small numbers for the sake of clarity. "
   ]
  },
  {
   "cell_type": "markdown",
   "metadata": {},
   "source": [
    "First we pick our primes. These will determine our keys.\n",
    "We pick P,Q,and E such that:\n",
    "\n",
    "    1. P and Q are prime; picked at random.\n",
    "    2. 1 < E < (P-1)*(Q-1) and E is co-prime with (P-1)*(Q-1)"
   ]
  },
  {
   "cell_type": "code",
   "execution_count": 1,
   "metadata": {},
   "outputs": [],
   "source": [
    "P = 97    # First prime\n",
    "Q = 83    # Second prime\n",
    "E = 53    # Open exponent. usually a constant; 0x10001 is common, prime is best"
   ]
  },
  {
   "cell_type": "markdown",
   "metadata": {},
   "source": [
    "1. Implement complementary functions  (1 point):\n",
    "    - brute-force primality test,\n",
    "    - extended euclidean algorithm,\n",
    "    - function for finding multiplicative inverse of x (mod y)"
   ]
  },
  {
   "cell_type": "code",
   "execution_count": 2,
   "metadata": {},
   "outputs": [],
   "source": [
    "# Brute-force (i.e. try every possibility) primality test.\n",
    "def isPrime(x):\n",
    "    for f in range(2,x-1):\n",
    "        if x%f == 0:\n",
    "            return False\n",
    "    return True\n",
    "\n",
    "# Extended_Euclidean_algorithm\n",
    "def eea(a,b):\n",
    "    if a == 0:\n",
    "        return b, 0, 1\n",
    "    gcd, x1, y1 = eea(b % a, a)\n",
    "    x = y1 - (b // a) * x1\n",
    "    y = x1\n",
    "    return gcd, x, y\n",
    "\n",
    "# Find the multiplicative inverse of x (mod y)\n",
    "# You should use eea() function here\n",
    "def find_inverse(x,y):\n",
    "    gcd, x_inv, _ = eea(x, y)\n",
    "    if gcd == 1:\n",
    "        return x_inv % y\n",
    "    else:\n",
    "        raise ValueError(\"Multiplicative inverse does not exist\")"
   ]
  },
  {
   "cell_type": "markdown",
   "metadata": {},
   "source": [
    "Let's make sure the numbers we picked above are valid"
   ]
  },
  {
   "cell_type": "code",
   "execution_count": 3,
   "metadata": {},
   "outputs": [],
   "source": [
    "if not isPrime(P): raise Exception(\"P (%i) is not prime\" % (P,))\n",
    "if not isPrime(Q): raise Exception(\"Q (%i) is not prime\" % (Q,))\n",
    "\n",
    "T=(P-1)*(Q-1) # Euler's totient (intermediate result)\n",
    "# Assuming E is prime, we just have to check against T\n",
    "if E<1 or E > T: raise Exception(\"E must be > 1 and < T\")\n",
    "if T%E==0: raise Exception(\"E is not coprime with T\")"
   ]
  },
  {
   "cell_type": "markdown",
   "metadata": {},
   "source": [
    "2. Find private and public keys and perform encryption and decryption (1 point)"
   ]
  },
  {
   "cell_type": "code",
   "execution_count": 4,
   "metadata": {},
   "outputs": [
    {
     "data": {
      "text/plain": [
       "(2525, 53, 7872)"
      ]
     },
     "execution_count": 4,
     "metadata": {},
     "output_type": "execute_result"
    }
   ],
   "source": [
    "D = find_inverse(E,T)\n",
    "D, E, T"
   ]
  },
  {
   "cell_type": "code",
   "execution_count": 7,
   "metadata": {},
   "outputs": [
    {
     "data": {
      "text/plain": [
       "17.000127032520325"
      ]
     },
     "execution_count": 7,
     "metadata": {},
     "output_type": "execute_result"
    }
   ],
   "source": [
    "D*E/T"
   ]
  },
  {
   "cell_type": "code",
   "execution_count": 28,
   "metadata": {},
   "outputs": [
    {
     "name": "stdout",
     "output_type": "stream",
     "text": [
      "Initial message: 1111\n",
      "Encrypted_message: 4293\n",
      "Decrypted_message: 1111\n"
     ]
    }
   ],
   "source": [
    "message = int(1111)\n",
    "print(\"Initial message: %i\" % message)\n",
    "\n",
    "\n",
    "key = (E, P*Q)\n",
    "encrypted_message = pow(message, *key)\n",
    "print(\"Encrypted_message: %i\" % encrypted_message)\n",
    "\n",
    "key = (D, P*Q)\n",
    "decrypted_message = pow(encrypted_message, *key)\n",
    "print(\"Decrypted_message: %i\" % decrypted_message)"
   ]
  },
  {
   "cell_type": "markdown",
   "metadata": {},
   "source": [
    "### Problem 3 (4 points)"
   ]
  },
  {
   "cell_type": "markdown",
   "metadata": {},
   "source": [
    "Elliptic curves due to their efficient hardware realization widely used in modern secure communication channels. The main thing that lies inside their cryptographic hardness is that we can break them only by greed search over all group points. In this task, we will ask you to write python function that returns all group elements of a certain elliptic curve over a finite field "
   ]
  },
  {
   "cell_type": "markdown",
   "metadata": {},
   "source": [
    "1. Write a python function that list all points of elliptic curve $y^2=x^3-10x-6$ over $F_{13}$ (2 points)"
   ]
  },
  {
   "cell_type": "code",
   "execution_count": 81,
   "metadata": {},
   "outputs": [
    {
     "name": "stdout",
     "output_type": "stream",
     "text": [
      "[(3, 2), (3, 11), (3, 11), (3, 2), (5, 2), (5, 11), (5, 11), (5, 2), (8, 6), (8, 7), (8, 7), (8, 6), (9, 3), (9, 10), (9, 10), (9, 3), (10, 6), (10, 7), (10, 7), (10, 6), (12, 4), (12, 9), (12, 9), (12, 4)]\n"
     ]
    }
   ],
   "source": [
    "\n",
    "def elliptic_curve_points_over_finite_field(a, b, p):\n",
    "    points = []\n",
    "    for x in range(p):\n",
    "        y_squared = (x**3 + a*x + b) % p\n",
    "        for y in range(p):\n",
    "            if (y*y) % p == y_squared:\n",
    "                points.append((x, y))\n",
    "                if y != 0:\n",
    "                    points.append((x, p - y))\n",
    "    return points\n",
    "\n",
    "a = -10\n",
    "b = -6\n",
    "p = 13\n",
    "points = elliptic_curve_points_over_finite_field(a, b, p)\n",
    "print(points)"
   ]
  },
  {
   "cell_type": "markdown",
   "metadata": {},
   "source": [
    "2. Compute the sum of 2 different points in group above and make sure that result lies within the same group (1 point)"
   ]
  },
  {
   "cell_type": "code",
   "execution_count": 94,
   "metadata": {},
   "outputs": [
    {
     "name": "stdout",
     "output_type": "stream",
     "text": [
      "Result of point addition: (5, 11)\n"
     ]
    }
   ],
   "source": [
    "def point_addition(p1, p2, a, p):\n",
    "    if p1 == \"O\":\n",
    "        return p2\n",
    "    if p2 == \"O\":\n",
    "        return p1\n",
    "\n",
    "    x1, y1 = p1\n",
    "    x2, y2 = p2\n",
    "\n",
    "    if p1 != p2:\n",
    "        m = ((y2 - y1) * pow(x2 - x1, -1, p)) % p\n",
    "    else:\n",
    "        m = ((3*x1**2 + a) * pow(2*y1, -1, p)) % p\n",
    "\n",
    "    x3 = (m**2 - x1 - x2) % p\n",
    "    y3 = (m*(x1 - x3) - y1) % p\n",
    "\n",
    "    return (x3, y3)\n",
    "\n",
    "p1 = points[0]\n",
    "p2 = points[4]\n",
    "\n",
    "result = point_addition(p1, p2, a, p)\n",
    "\n",
    "assert (result[1]**2)%13 == (result[0]**3-10*result[0]-6)%13\n",
    "print(\"Result of point addition:\", result)\n"
   ]
  },
  {
   "cell_type": "markdown",
   "metadata": {},
   "source": [
    "3. Compute the sum of 2 equal points in group above and make sure that result lies within the same group (1 point)"
   ]
  },
  {
   "cell_type": "code",
   "execution_count": 95,
   "metadata": {},
   "outputs": [
    {
     "name": "stdout",
     "output_type": "stream",
     "text": [
      "Result of point addition with equal points: (8, 6)\n"
     ]
    }
   ],
   "source": [
    "p1 = points[0]\n",
    "p2 = points[0]\n",
    "\n",
    "result = point_addition(p1, p2, a, p)\n",
    "assert (result[1]**2)%13 == (result[0]**3-10*result[0]-6)%13\n",
    "print(\"Result of point addition with equal points:\", result)"
   ]
  },
  {
   "cell_type": "markdown",
   "metadata": {},
   "source": [
    "### Problem 4 (2 points)"
   ]
  },
  {
   "cell_type": "markdown",
   "metadata": {},
   "source": [
    "Let us consider the finite field $\\mathbb{Z}_p$ with $p=11$. A secret was shared using $(n,3)$-threshold Shamir secret sharing scheme. $4$ shares are known: $(2;9), (3;9), (5;5), (7;3)$. Reconstruct the polynomial $f(x)$ and the common secret $f(0)$.\n",
    "\n",
    " Note that each share is given in the form $(x_i; f(x_i))$."
   ]
  },
  {
   "cell_type": "markdown",
   "metadata": {},
   "source": [
    "To reconstruct the polynomial $f(x)$ and the common secret $f(0)$ using the given shares in the $(n,3)$-threshold Shamir secret sharing scheme, we need to perform Lagrange interpolation. The Lagrange interpolation formula is given by:\n",
    "\n",
    "$$f(x) = \\sum_{i=1}^{n} f(x_i) \\cdot l_i(x)$$\n",
    "\n",
    "where $l_i(x) = \\prod_{j=1,j\\neq i}^{n} \\frac{x-x_j}{x_i-x_j}$.\n",
    "\n",
    "Given the shares $(2;9), (3;9), (5;5), (7;3)$, we can construct the Lagrange basis polynomials and then compute the polynomial $f(x)$.\n",
    "\n",
    "Let's perform the calculations:\n",
    "\n",
    "1. Calculate the Lagrange basis polynomials:\n",
    "   - For $i=1$: $l_1(x) = \\frac{(x-3)(x-5)(x-7)}{(2-3)(2-5)(2-7)} = \\frac{(x-3)(x-5)(x-7)}{10}$\n",
    "   - For $i=2$: $l_2(x) = \\frac{(x-2)(x-5)(x-7)}{(3-2)(3-5)(3-7)} = \\frac{(x-2)(x-5)(x-7)}{20}$\n",
    "   - For $i=3$: $l_3(x) = \\frac{(x-2)(x-3)(x-7)}{(5-2)(5-3)(5-7)} = \\frac{(x-2)(x-3)(x-7)}{-4}$\n",
    "   - For $i=4$: $l_4(x) = \\frac{(x-2)(x-3)(x-5)}{(7-2)(7-3)(7-5)} = \\frac{(x-2)(x-3)(x-5)}{10}$\n",
    "\n",
    "2. Compute the polynomial $f(x)$:\n",
    "   $$f(x) = 9 \\cdot l_1(x) + 9 \\cdot l_2(x) + 5 \\cdot l_3(x) + 3 \\cdot l_4(x)$$\n",
    "\n",
    "\n",
    "In order to calculate coefficients and find common secret let's write Python code:\n",
    "\n"
   ]
  },
  {
   "cell_type": "code",
   "execution_count": 98,
   "metadata": {},
   "outputs": [
    {
     "name": "stdout",
     "output_type": "stream",
     "text": [
      "The reconstructed polynomial f(x) is: 11*x**3/60 - 5*x**2/2 + 541*x/60 - 1/2\n",
      "The common secret f(0) is: -1/2\n"
     ]
    }
   ],
   "source": [
    "from sympy import symbols, simplify\n",
    "\n",
    "# Given shares\n",
    "shares = [(2, 9), (3, 9), (5, 5), (7, 3)]\n",
    "\n",
    "# Lagrange basis polynomials\n",
    "def lagrange_basis(i, x, shares):\n",
    "    result = 1\n",
    "    xi, _ = shares[i]\n",
    "    for j in range(len(shares)):\n",
    "        if j != i:\n",
    "            xj, _ = shares[j]\n",
    "            result *= (x - xj) / (xi - xj)\n",
    "    return result\n",
    "\n",
    "# Compute the Lagrange interpolation\n",
    "x = symbols('x')\n",
    "f_x = 0\n",
    "for i in range(len(shares)):\n",
    "    xi, yi = shares[i]\n",
    "    f_x += yi * lagrange_basis(i, x, shares)\n",
    "\n",
    "f_x = simplify(f_x)\n",
    "\n",
    "# Evaluate f(0) to find the common secret\n",
    "common_secret = f_x.subs(x, 0)\n",
    "\n",
    "print(\"The reconstructed polynomial f(x) is:\", f_x)\n",
    "print(\"The common secret f(0) is:\", common_secret)\n"
   ]
  }
 ],
 "metadata": {
  "kernelspec": {
   "display_name": "Python 3 (ipykernel)",
   "language": "python",
   "name": "python3"
  },
  "language_info": {
   "codemirror_mode": {
    "name": "ipython",
    "version": 3
   },
   "file_extension": ".py",
   "mimetype": "text/x-python",
   "name": "python",
   "nbconvert_exporter": "python",
   "pygments_lexer": "ipython3",
   "version": "3.10.12"
  }
 },
 "nbformat": 4,
 "nbformat_minor": 2
}

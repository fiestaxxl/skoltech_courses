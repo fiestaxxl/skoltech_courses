{
 "cells": [
  {
   "cell_type": "code",
   "execution_count": 1,
   "id": "b082fb73",
   "metadata": {},
   "outputs": [],
   "source": [
    "\n",
    "import numpy as np\n",
    "import scipy.sparse as sp\n",
    "import matplotlib.pyplot as plt\n",
    "import imageio\n",
    "import cupy as cp\n",
    "from tqdm import tqdm"
   ]
  },
  {
   "cell_type": "code",
   "execution_count": 2,
   "id": "654918cf",
   "metadata": {},
   "outputs": [],
   "source": [
    "def get_Hamiltonian2D(x, dt=1, dx=1, m=1, hdot=1, potential = 'none'):\n",
    "    '''\n",
    "    returns H - Hamiltonian for lhs and H_rhs - Hamiltonian for rhs parts of Crank-Nicolson method\n",
    "    '''\n",
    "    \n",
    "    dj = 1+1j*dt*hdot/(2*m*dx**2) #elenemts on the main diagonal of H\n",
    "    oj = -1j*dt*hdot/(4*m*dx**2) #elements on the upper and lower diagonal of H\n",
    "    diagonal = cp.ones(len(x), dtype=complex)*dj\n",
    "    off_diagonal = cp.ones(len(x)-1,dtype = complex)*oj\n",
    "    \n",
    "    H = cp.diag(diagonal) + cp.diag(off_diagonal, 1) + cp.diag(off_diagonal, -1)\n",
    "    \n",
    "    dj_rhs = 1-1j*dt*hdot/(2*m*dx**2) #elenemts on the main diagonal of H_rhs\n",
    "    oj_rhs = 1j*dt*hdot/(4*m*dx**2) #elements on the upper and lower diagonal of H_rhs\n",
    "    diagonal_rhs = cp.ones(len(x), dtype=complex)*dj\n",
    "    off_diagonal_rhs = cp.ones(len(x)-1,dtype = complex)*oj\n",
    "    H_rhs = cp.diag(diagonal_rhs) + cp.diag(off_diagonal_rhs, 1) + cp.diag(off_diagonal_rhs, -1)\n",
    "    \n",
    "    n = cp.shape(H)[0]\n",
    "    I = cp.identity(n,dtype = complex)\n",
    "    \n",
    "    H_2d = cp.kron(H,I) + cp.kron(I,H)\n",
    "    H_2drhs = cp.kron(H_rhs,I) + cp.kron(I,H_rhs)\n",
    "    \n",
    "    if potential == 'none':\n",
    "        return H_2d, H_2drhs"
   ]
  },
  {
   "cell_type": "code",
   "execution_count": 3,
   "id": "07fb26fb",
   "metadata": {},
   "outputs": [],
   "source": [
    "def gaus2d(x,y,sigma=1,mu=0,p0=0,h=1):\n",
    "    '''\n",
    "    initial conditions at t=0 as Gaussian wave packet\n",
    "    '''\n",
    "    psi = 1/(cp.pi**(1/4)*cp.sqrt(sigma))*cp.exp(-((x-mu)**2 + (y-mu)**2)/(2*sigma**2))*cp.exp(1j*p0*x/h)\n",
    "    return psi"
   ]
  },
  {
   "cell_type": "code",
   "execution_count": 4,
   "id": "6042b804",
   "metadata": {},
   "outputs": [],
   "source": [
    "hdot = 1\n",
    "w = 1\n",
    "m = 1\n",
    "dt = 0.5\n",
    "dx = 0.29\n",
    "x = cp.arange(-10,10,dx)"
   ]
  },
  {
   "cell_type": "code",
   "execution_count": 5,
   "id": "122c9db4",
   "metadata": {},
   "outputs": [],
   "source": [
    "gaussa_2d = cp.empty((len(x),len(x)),dtype=complex)\n",
    "for i, xi in enumerate(x):\n",
    "    for j, xj in enumerate(x):\n",
    "        gaussa_2d[i,j] = gaus2d(xi,xj)"
   ]
  },
  {
   "cell_type": "code",
   "execution_count": 6,
   "id": "501b9e1a",
   "metadata": {},
   "outputs": [],
   "source": [
    "H2d,H2d_rhs = get_Hamiltonian2D(x)"
   ]
  },
  {
   "cell_type": "code",
   "execution_count": 7,
   "id": "ede57dcf",
   "metadata": {},
   "outputs": [
    {
     "data": {
      "text/plain": [
       "(4761, 4761)"
      ]
     },
     "execution_count": 7,
     "metadata": {},
     "output_type": "execute_result"
    }
   ],
   "source": [
    "H2d.shape"
   ]
  },
  {
   "cell_type": "code",
   "execution_count": 8,
   "id": "633bc81f",
   "metadata": {},
   "outputs": [],
   "source": [
    "initial_cond2d=gaussa_2d.flatten()\n",
    "\n",
    "b = cp.dot(H2d_rhs,initial_cond2d)"
   ]
  },
  {
   "cell_type": "code",
   "execution_count": 9,
   "id": "f25bcfc3",
   "metadata": {},
   "outputs": [
    {
     "name": "stderr",
     "output_type": "stream",
     "text": [
      "100%|██████████████████████████████████████████████████████████████████████████████████| 49/49 [09:54<00:00, 12.13s/it]\n"
     ]
    }
   ],
   "source": [
    "time = 50\n",
    "res = cp.zeros((time,len(x)**2), dtype = complex)\n",
    "res[0,:] = cp.linalg.solve(H2d, b)\n",
    "\n",
    "for i in tqdm(range(1, time)):\n",
    "    res[i,:] = cp.linalg.solve(H2d, res[i-1,:])"
   ]
  },
  {
   "cell_type": "code",
   "execution_count": 12,
   "id": "585b2632",
   "metadata": {},
   "outputs": [],
   "source": [
    "def pic(M,name):\n",
    "    fig, ax = plt.subplots(figsize=(10,8))\n",
    "    ax.imshow(np.abs(M.get().reshape(len(x),len(x)))**2)\n",
    "    plt.axis('off')\n",
    "    fig.savefig(name)\n",
    "    plt.close(fig);"
   ]
  },
  {
   "cell_type": "code",
   "execution_count": 13,
   "id": "e4cc53ce",
   "metadata": {},
   "outputs": [],
   "source": [
    "plt.ioff()\n",
    "files = list()\n",
    "for i in range(50):\n",
    "    M = res[i,:]\n",
    "    pic(M,f'{i+1000}animation.png')\n",
    "    files.append(f'{i+1000}animation.png')\n",
    "    "
   ]
  },
  {
   "cell_type": "code",
   "execution_count": 14,
   "id": "18a7c2ac",
   "metadata": {},
   "outputs": [
    {
     "name": "stderr",
     "output_type": "stream",
     "text": [
      "C:\\Users\\ivang\\AppData\\Local\\Temp\\ipykernel_5264\\1071562279.py:3: DeprecationWarning: Starting with ImageIO v3 the behavior of this function will switch to that of iio.v3.imread. To keep the current behavior (and make this warning disappear) use `import imageio.v2 as imageio` or call `imageio.v2.imread` directly.\n",
      "  images.append(imageio.imread(file))\n"
     ]
    }
   ],
   "source": [
    "images = list()\n",
    "for file in files:\n",
    "    images.append(imageio.imread(file))\n",
    "imageio.mimsave(f'shr.gif', images, fps = 17);"
   ]
  },
  {
   "cell_type": "code",
   "execution_count": null,
   "id": "a9b495c2",
   "metadata": {},
   "outputs": [],
   "source": []
  }
 ],
 "metadata": {
  "kernelspec": {
   "display_name": "Python 3 (ipykernel)",
   "language": "python",
   "name": "python3"
  },
  "language_info": {
   "codemirror_mode": {
    "name": "ipython",
    "version": 3
   },
   "file_extension": ".py",
   "mimetype": "text/x-python",
   "name": "python",
   "nbconvert_exporter": "python",
   "pygments_lexer": "ipython3",
   "version": "3.10.7"
  }
 },
 "nbformat": 4,
 "nbformat_minor": 5
}

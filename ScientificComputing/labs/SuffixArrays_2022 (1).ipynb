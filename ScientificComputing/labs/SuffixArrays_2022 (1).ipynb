{
 "cells": [
  {
   "cell_type": "markdown",
   "metadata": {
    "id": "8uVc9HcFMtYL"
   },
   "source": [
    "# Suffix arrays\n",
    "\n",
    "#### Useful links:\n",
    "* Wikipedia: https://en.wikipedia.org/wiki/Suffix_array\n",
    "* Basic algorithms and C++ code: https://web.stanford.edu/class/cs97si/suffix-array.pdf\n",
    "* Some Python code: https://louisabraham.github.io/notebooks/suffix_arrays.html\n",
    "\n",
    "#### **Problem:** finding substrings in long strings\n",
    "\n",
    "* \"Naive\" method of finding length-$M$ substring in a length-$N$ string: $O(NM)$ operations. (**Exercise:** Why?) \n",
    "* Far too slow! E.g, human genome is a string of length $3\\cdot 10^9$ in the alphabet $\\{A,C,G,T\\}$\n",
    "* General idea of faster search: index substrings to avoid repeated comparisons\n",
    "\n",
    "### Suffix tree\n",
    "\n",
    "The tree containing all *suffixes* of the string:\n",
    "\n",
    "<img src='https://upload.wikimedia.org/wikipedia/commons/thumb/d/d2/Suffix_tree_BANANA.svg/250px-Suffix_tree_BANANA.svg.png'>"
   ]
  },
  {
   "cell_type": "code",
   "execution_count": 1,
   "metadata": {
    "colab": {
     "base_uri": "https://localhost:8080/"
    },
    "id": "I-6Oab_-MtYS",
    "outputId": "f825e016-bf22-4ecb-f609-8db59a0112f7"
   },
   "outputs": [
    {
     "name": "stdout",
     "output_type": "stream",
     "text": [
      "Suffix 0: banana$\n",
      "Suffix 1: anana$\n",
      "Suffix 2: nana$\n",
      "Suffix 3: ana$\n",
      "Suffix 4: na$\n",
      "Suffix 5: a$\n",
      "Suffix 6: $\n"
     ]
    }
   ],
   "source": [
    "A = 'banana$'\n",
    "for k in range(len(A)):\n",
    "    print ('Suffix %d:' %(k), A[k:])\n",
    "\n",
    "# from IPython.display import Image\n",
    "# Image(url= \"Suffix_tree_BANANA.svg\", width=200)"
   ]
  },
  {
   "cell_type": "markdown",
   "metadata": {
    "id": "c6s_PjbZMtYX"
   },
   "source": [
    "If a suffix tree is available for A, finding a length-$M$ substring requires only $O(M)$ operations.\n",
    "\n",
    "### Suffix arrays\n",
    "\n",
    "A lightweight alternative to suffix trees.\n",
    "\n",
    "**Definition.** Given a string A, the suffix array SA contains positions of suffixes of $A$ in lexicographic order: i.e., A[SA[k]:] is the $k$'th smallest suffix in A."
   ]
  },
  {
   "cell_type": "code",
   "execution_count": 1,
   "metadata": {
    "colab": {
     "base_uri": "https://localhost:8080/"
    },
    "id": "spDC1eYyMtYZ",
    "outputId": "13bb52a4-e69b-4912-9257-acd7c4bbb423"
   },
   "outputs": [
    {
     "name": "stdout",
     "output_type": "stream",
     "text": [
      "['ababa$', 'baba$', 'aba$', 'ba$', 'a$', '$']\n",
      "SA: [5 4 2 0 3 1]\n",
      "\n",
      "Unsorted suffixes:\n",
      "0: ababa$\n",
      "1: baba$\n",
      "2: aba$\n",
      "3: ba$\n",
      "4: a$\n",
      "5: $\n",
      "\n",
      "Sorted suffixes:\n",
      "5: $\n",
      "4: a$\n",
      "2: aba$\n",
      "0: ababa$\n",
      "3: ba$\n",
      "1: baba$\n"
     ]
    }
   ],
   "source": [
    "import numpy as np\n",
    "\n",
    "A = 'ababa$'\n",
    "N = len(A)\n",
    "suffixL = [A[n:] for n in range(N)]\n",
    "print(suffixL)\n",
    " \n",
    "SA = np.argsort(suffixL) # the suffix array \n",
    "print ('SA:', SA)\n",
    "\n",
    "print ('\\nUnsorted suffixes:')\n",
    "for n in range(N):\n",
    "    print ('%d:' %(n), A[n:])\n",
    "\n",
    "print ('\\nSorted suffixes:')\n",
    "for k in range(N):\n",
    "    print ('%d:' %(SA[k]), A[SA[k]:])"
   ]
  },
  {
   "cell_type": "markdown",
   "metadata": {
    "id": "rXHMrO15MtYa"
   },
   "source": [
    "**Exercise:** With constructed SA, we can find a length-$M$ substring in a length-$N$ string using only $O(M\\log N)$ operations:  repeated binary searches! \n",
    "\n",
    "### Typical problems efficiently solved using SA:\n",
    "* Findind given substrings in long strings\n",
    "* Finding the largest common substring in several strings\n",
    "* Finding the number of different substrings in a string\n",
    "\n",
    "### Construction of Suffix Array: the prefix-doubling algorithm\n",
    "\n",
    "Idea: iterations; at step $m$ sort length-$2^m$ substrings \n",
    "\n",
    "* Start by sorting the single letters of A. \n",
    "* Sort length-2 substrings of A: represent them as pairs [A[k], A[k+1]], and sort such pairs lexicographically.  \n",
    "* Continue by doubling the length of substrings: once length-$2^m$ substrings are sorted, sort length-$2^{m+1}$ substrings as pairs `[A[k:k+2**m], A[k+2**m:k+2**(m+1)]]` of length-$2^m$ substrings. \n",
    "* After at most $\\log_2 N$ steps, all the suffixes are fully sorted. \n",
    "\n",
    "Complexity at each step is $O(N\\log N)$, so the total complexity is $O(N\\log^2 N)$"
   ]
  },
  {
   "cell_type": "code",
   "execution_count": 3,
   "metadata": {
    "id": "y_Kw_6Z9MtYb"
   },
   "outputs": [],
   "source": [
    "def invPerm(p):\n",
    "    '''Invert the permutation p'''\n",
    "    s = np.empty(p.size, p.dtype)\n",
    "    s[p] = np.arange(p.size)\n",
    "    return s\n",
    "\n",
    "\n",
    "def getSA(A):\n",
    "    if not type(A) is np.ndarray:\n",
    "        A = np.array(list(A))\n",
    "    N = len(A) \n",
    "    M = int(np.ceil(np.log2(N)))+1   # number of iterations\n",
    "    \n",
    "    # auxiliary arrays; row m stores results after m'th step:\n",
    "    \n",
    "    # positions of sorted length-(2**m) sequences in A\n",
    "    P = np.zeros((M,N), dtype=int) \n",
    "    \n",
    "    # rank (0, 1, etc.) of sorted length-(2**m) sequences after sorting\n",
    "    Q = np.zeros((M,N), dtype=int)     \n",
    "    \n",
    "    # rank of sorted length-(2**m) sequences at its starting position in A;\n",
    "    # padded by 0 on the right\n",
    "    R = np.zeros((M,3*N), dtype=int) \n",
    "\n",
    "    for k in range(M):\n",
    "        if k == 0:\n",
    "            P[0] = np.argsort(A)\n",
    "            Q[0][1:] = np.cumsum(A[P[0]][1:] != A[P[0]][:-1])\n",
    "            R[0][:N] = Q[0][invPerm(P[0])]\n",
    "        else:\n",
    "            offset = 2**(k-1)\n",
    "            r = np.lexsort((R[k-1, P[k-1]+offset], R[k-1, P[k-1]]))\n",
    "            P[k] = P[k-1][r]\n",
    "            # k'th rank increases iff (k-1)'th rank increases at least for one element of the pair    \n",
    "            Q[k][1:] = np.cumsum(np.logical_or(R[k-1][P[k]][1:] != R[k-1][P[k]][:-1], \n",
    "                                          R[k-1][P[k]+offset][1:] != R[k-1][P[k]+offset][:-1]))\n",
    "            R[k][:N] = Q[k][invPerm(P[k])]\n",
    "            \n",
    "            # early stopping if suffixes already fully sorted (max rank is N-1)\n",
    "            if Q[k][-1] == N-1: \n",
    "                break\n",
    "    \n",
    "    SA = P[k]\n",
    "    return SA, P[:k+1], Q[:k+1], R[:k+1]        "
   ]
  },
  {
   "cell_type": "markdown",
   "metadata": {
    "collapsed": true,
    "id": "RJoK0M-3MtYd"
   },
   "source": [
    "Check with the banana example:"
   ]
  },
  {
   "cell_type": "code",
   "execution_count": 4,
   "metadata": {
    "colab": {
     "base_uri": "https://localhost:8080/"
    },
    "id": "1t7fWqHaMtYd",
    "outputId": "cd6d4789-163e-478a-c47f-c3d8961d7154"
   },
   "outputs": [
    {
     "name": "stdout",
     "output_type": "stream",
     "text": [
      "Suffix array: [6 5 3 1 0 4 2]\n",
      "\n",
      "Sorted suffixes:\n",
      "$\n",
      "a$\n",
      "ana$\n",
      "anana$\n",
      "banana$\n",
      "na$\n",
      "nana$\n",
      "\n",
      "P:\n",
      " [[6 1 3 5 0 2 4]\n",
      " [6 5 1 3 0 2 4]\n",
      " [6 5 3 1 0 4 2]]\n",
      "Q:\n",
      " [[0 1 1 1 2 3 3]\n",
      " [0 1 2 2 3 4 4]\n",
      " [0 1 2 3 4 5 6]]\n",
      "R:\n",
      " [[2 1 3 1 3 1 0 0 0 0 0 0 0 0 0 0 0 0 0 0 0]\n",
      " [3 2 4 2 4 1 0 0 0 0 0 0 0 0 0 0 0 0 0 0 0]\n",
      " [4 3 6 2 5 1 0 0 0 0 0 0 0 0 0 0 0 0 0 0 0]]\n"
     ]
    }
   ],
   "source": [
    "A = 'banana$'\n",
    "SA, P, Q, R = getSA(A)\n",
    "\n",
    "print ('Suffix array:', SA)\n",
    "print ()\n",
    "\n",
    "print ('Sorted suffixes:')\n",
    "for n in range(len(A)):\n",
    "    print (A[SA[n]:])\n",
    "\n",
    "print ()\n",
    "print ('P:\\n', P)\n",
    "print ('Q:\\n', Q)\n",
    "print ('R:\\n', R)"
   ]
  },
  {
   "cell_type": "markdown",
   "metadata": {
    "id": "WmJ1WxRIMtYe"
   },
   "source": [
    "### Test on SARRAY problem of Sphere Online Judge\n",
    "http://www.spoj.com/problems/SARRAY/\n",
    "\n",
    "Submit as a Python 2.7 or 3.7 program."
   ]
  },
  {
   "cell_type": "code",
   "execution_count": 4,
   "metadata": {
    "id": "GugTvdXZMtYh"
   },
   "outputs": [],
   "source": [
    "import sys\n",
    "import numpy as np\n",
    "\n",
    "def invPerm(p):\n",
    "    'Invert the permutation p'\n",
    "    s = np.empty(p.size, p.dtype)\n",
    "    s[p] = np.arange(p.size)\n",
    "    return s\n",
    "\n",
    "def getSA(A):\n",
    "    if not type(A) is np.ndarray:\n",
    "        A = np.array(list(A))\n",
    "    N = len(A) \n",
    "    M = int(np.ceil(np.log2(N)))+1   # number of iterations\n",
    "    P = np.zeros((M,N), dtype=int) \n",
    "    Q = np.zeros((M,N), dtype=int)     \n",
    "    R = np.zeros((M,3*N), dtype=int) \n",
    "\n",
    "    for k in range(M):\n",
    "        if k == 0:\n",
    "            P[0] = np.argsort(A)\n",
    "            Q[0][1:] = np.cumsum(A[P[0]][1:] != A[P[0]][:-1])\n",
    "            R[0][:N] = Q[0][invPerm(P[0])]\n",
    "        else:\n",
    "            offset = 2**(k-1)\n",
    "            r = np.lexsort((R[k-1, P[k-1]+offset], R[k-1, P[k-1]]))\n",
    "            P[k] = P[k-1][r]  \n",
    "            Q[k][1:] = np.cumsum(np.logical_or(R[k-1][P[k]][1:] != R[k-1][P[k]][:-1], \n",
    "                                          R[k-1][P[k]+offset][1:] != R[k-1][P[k]+offset][:-1]))\n",
    "            R[k][:N] = Q[k][invPerm(P[k])]\n",
    "\n",
    "            if Q[k][-1] == N-1: \n",
    "                break\n",
    "\n",
    "    SA = P[k]\n",
    "    return SA, P[:k+1], Q[:k+1], R[:k+1]  \n",
    "\n",
    "def main():\n",
    "    A = sys.stdin.readline().rstrip('\\n') + '$'\n",
    "    SA = getSA(A)[0]\n",
    "    for n in SA[1:]:\n",
    "        print(n)\n",
    "\n",
    "if __name__ == '__main__':\n",
    "    main()  "
   ]
  },
  {
   "cell_type": "markdown",
   "metadata": {
    "id": "zgfLbYL0MtYi"
   },
   "source": [
    "### A C++ implementation for comparison:\n",
    "\n",
    "```\n",
    "#include <iostream>\n",
    "#include <cstring>\n",
    "#include <algorithm>\n",
    "using namespace std;\n",
    " \n",
    "// Structure to store information of a suffix\n",
    "struct suffix\n",
    "{\n",
    "    int index; // To store original index\n",
    "    int rank[2]; // To store ranks and next rank pair\n",
    "};\n",
    " \n",
    "// A comparison function used by sort() to compare two suffixes\n",
    "// Compares two pairs, returns 1 if first pair is smaller\n",
    "int cmp(struct suffix a, struct suffix b)\n",
    "{\n",
    "    return (a.rank[0] == b.rank[0])? (a.rank[1] < b.rank[1] ?1: 0):\n",
    "               (a.rank[0] < b.rank[0] ?1: 0);\n",
    "}\n",
    " \n",
    "// This is the main function that takes a string 'txt' of size n as an\n",
    "// argument, builds and return the suffix array for the given string\n",
    "int *buildSuffixArray(char *txt, int n)\n",
    "{\n",
    "    // A structure to store suffixes and their indexes\n",
    "    struct suffix suffixes[n];\n",
    " \n",
    "    // Store suffixes and their indexes in an array of structures.\n",
    "    // The structure is needed to sort the suffixes alphabatically\n",
    "    // and maintain their old indexes while sorting\n",
    "    for (int i = 0; i < n; i++)\n",
    "    {\n",
    "        suffixes[i].index = i;\n",
    "        suffixes[i].rank[0] = txt[i] - '0';\n",
    "        suffixes[i].rank[1] = ((i+1) < n)? (txt[i + 1] - '0'): -1;\n",
    "    }\n",
    " \n",
    "    // Sort the suffixes using the comparison function\n",
    "    // defined above.\n",
    "    sort(suffixes, suffixes+n, cmp);\n",
    " \n",
    "    // At his point, all suffixes are sorted according to first\n",
    "    // 2 characters.  Let us sort suffixes according to first 4\n",
    "    // characters, then first 8 and so on\n",
    "    int ind[n+1];  // This array is needed to get the index in suffixes[]\n",
    "                 // from original index.  This mapping is needed to get\n",
    "                 // next suffix.\n",
    "    for (int k = 4; k < 2*n; k = k*2)\n",
    "    {\n",
    "        // Assigning rank and index values to first suffix\n",
    "        int rank = 0;\n",
    "        int prev_rank = suffixes[0].rank[0];\n",
    "        suffixes[0].rank[0] = rank;\n",
    "        ind[suffixes[0].index] = 0;\n",
    " \n",
    "        // Assigning rank to suffixes\n",
    "        for (int i = 1; i < n; i++)\n",
    "        {\n",
    "            // If first rank and next ranks are same as that of previous\n",
    "            // suffix in array, assign the same new rank to this suffix\n",
    "            if (suffixes[i].rank[0] == prev_rank &&\n",
    "                    suffixes[i].rank[1] == suffixes[i-1].rank[1])\n",
    "            {\n",
    "                prev_rank = suffixes[i].rank[0];\n",
    "                suffixes[i].rank[0] = rank;\n",
    "            }\n",
    "            else // Otherwise increment rank and assign\n",
    "            {\n",
    "                prev_rank = suffixes[i].rank[0];\n",
    "                suffixes[i].rank[0] = ++rank;\n",
    "            }\n",
    "            ind[suffixes[i].index] = i;\n",
    "        }\n",
    " \n",
    "        // Assign next rank to every suffix\n",
    "        for (int i = 0; i < n; i++)\n",
    "        {\n",
    "            int nextindex = suffixes[i].index + k/2;\n",
    "            suffixes[i].rank[1] = (nextindex < n)?\n",
    "                                  suffixes[ind[nextindex]].rank[0]: -1;\n",
    "        }\n",
    " \n",
    "        // Sort the suffixes according to first k characters\n",
    "        sort(suffixes, suffixes+n, cmp);\n",
    "    }\n",
    " \n",
    "    // Store indexes of all sorted suffixes in the suffix array\n",
    "    int *suffixArr = new int[n];\n",
    "    for (int i = 0; i < n; i++)\n",
    "        suffixArr[i] = suffixes[i].index;\n",
    " \n",
    "    // Return the suffix array\n",
    "    return  suffixArr;\n",
    "}\n",
    " \n",
    "// A utility function to print the suffix array\n",
    "void printArr(int arr[], int n)\n",
    "{\n",
    "    for (int i = 0; i < n; i++)\n",
    "        cout << arr[i] << endl;\n",
    "}\n",
    " \n",
    "\n",
    "int main()\n",
    "{\n",
    "    char txt[100000];\n",
    "    std::cin.getline(txt,100000);\n",
    "    int n = strlen(txt);\n",
    "    int *suffixArr = buildSuffixArray(txt,  n);\n",
    "    printArr(suffixArr, n);\n",
    "    return 0;\n",
    "}\n",
    "```"
   ]
  },
  {
   "cell_type": "markdown",
   "metadata": {
    "id": "sdg_q-yAMtYj"
   },
   "source": [
    "### Finding substrings in a string\n",
    "**Exercise:** Suffixes starting with a specific string form a *contiguous interval* in the suffix array (i.e. for any substring B in A there are $s,r$ such that the suffix $A[SA[n]:]$ starts with B iff $s \\le n <r$). \n",
    "\n",
    "The boundaries of the interval can be found with $O(M\\log N)$ operations by repeated dichotomy based on lexicographic comparison.\n",
    "\n",
    "**Exercise:** The number of occurrences of substring B in A equals $r-s$."
   ]
  },
  {
   "cell_type": "code",
   "execution_count": 5,
   "metadata": {
    "id": "CCRwgjDVMtYk"
   },
   "outputs": [],
   "source": [
    "def findSubstring(A, SA, B):\n",
    "    '''\n",
    "    Return the interval (s,r) such that for any s <= n <r the suffix A[SA[n]:] starts with B.\n",
    "    '''\n",
    "    N = len(A)\n",
    "    N1 = len(B)\n",
    "    l = 0; r = N\n",
    "    while l < r:\n",
    "        mid = (l+r) // 2\n",
    "        if B > A[SA[mid]:SA[mid]+N1]:\n",
    "            l = mid + 1\n",
    "        else:\n",
    "            r = mid\n",
    "    s = l; r = N\n",
    "    while l < r:\n",
    "        mid = (l+r) // 2\n",
    "        if B < A[SA[mid]:SA[mid]+N1]:\n",
    "            r = mid\n",
    "        else:\n",
    "            l = mid + 1\n",
    "    return (s, r)"
   ]
  },
  {
   "cell_type": "markdown",
   "metadata": {
    "id": "le8s_ToTMtYk"
   },
   "source": [
    "#### Examples"
   ]
  },
  {
   "cell_type": "code",
   "execution_count": 3,
   "metadata": {
    "colab": {
     "base_uri": "https://localhost:8080/"
    },
    "id": "8EyrzXasMtYl",
    "outputId": "3cc79fd5-6790-4929-fc6a-422f3cf4eec9"
   },
   "outputs": [
    {
     "ename": "NameError",
     "evalue": "name 'getSA' is not defined",
     "output_type": "error",
     "traceback": [
      "\u001b[1;31m---------------------------------------------------------------------------\u001b[0m",
      "\u001b[1;31mNameError\u001b[0m                                 Traceback (most recent call last)",
      "Cell \u001b[1;32mIn [3], line 2\u001b[0m\n\u001b[0;32m      1\u001b[0m A \u001b[38;5;241m=\u001b[39m \u001b[38;5;124m'\u001b[39m\u001b[38;5;124mbanana$\u001b[39m\u001b[38;5;124m'\u001b[39m\n\u001b[1;32m----> 2\u001b[0m SA \u001b[38;5;241m=\u001b[39m \u001b[43mgetSA\u001b[49m(A)[\u001b[38;5;241m0\u001b[39m]\n\u001b[0;32m      3\u001b[0m \u001b[38;5;28mprint\u001b[39m (SA)\n\u001b[0;32m      5\u001b[0m \u001b[38;5;28;01mfor\u001b[39;00m B \u001b[38;5;129;01min\u001b[39;00m [\u001b[38;5;124m'\u001b[39m\u001b[38;5;124ma\u001b[39m\u001b[38;5;124m'\u001b[39m, \u001b[38;5;124m'\u001b[39m\u001b[38;5;124mana\u001b[39m\u001b[38;5;124m'\u001b[39m, \u001b[38;5;124m'\u001b[39m\u001b[38;5;124maa\u001b[39m\u001b[38;5;124m'\u001b[39m]:\n",
      "\u001b[1;31mNameError\u001b[0m: name 'getSA' is not defined"
     ]
    }
   ],
   "source": [
    "A = 'banana$'\n",
    "SA = getSA(A)[0]\n",
    "print (SA)\n",
    "\n",
    "for B in ['a', 'ana', 'aa']:\n",
    "    print ('\\nSubstring: ', B)\n",
    "    (s,r) = findSubstring(A, SA, B)\n",
    "    print ('The interval:', (s,r))\n",
    "    print ('The number of occurrences:', r-s)\n",
    "    for n in range(s,r):\n",
    "        print (SA[n],': ', A[SA[n]:])"
   ]
  },
  {
   "cell_type": "markdown",
   "metadata": {
    "id": "WwoiK5dZMtYm"
   },
   "source": [
    "### The LCP array (Longest Common Substring)\n",
    "\n",
    "LCP[n] = the length of the common prefix of suffixes A[SA[n]:] and A[SA[n+1]:] \n",
    "\n",
    "**Exercise:** For any $n < k$, the length of the common prefix of suffixes A[SA[n]:] and A[SA[k]:] equals $\\min_{n\\le s<k}$ LCP[s]. \n",
    "\n",
    "### Construction of the LCP array\n",
    "\n",
    "Easy to construct from Suffix Array and the 2D array of ranks of sorted length-$2^m$ sequences.\n",
    "\n",
    "Idea: check if suffixes have a common length-$2^M$ prefix, then check if they have a common prefix of length either $2^{M-1}$ or $(2^M+2^{M-1})$, etc.  \n",
    "\n",
    "Then, construction of the whole LCP requires $O(N\\log N)$ operations. "
   ]
  },
  {
   "cell_type": "code",
   "execution_count": 6,
   "metadata": {
    "id": "Xl_S0mIWMtYm"
   },
   "outputs": [],
   "source": [
    "def getLCP(SA, R):\n",
    "    (M, N) = R.shape\n",
    "    LCP = np.zeros((len(SA)-1,),dtype=int)\n",
    "    for m in range(M-1)[::-1]:\n",
    "        t = (R[m][SA[1:]+LCP] == R[m][SA[:-1]+LCP]).astype(int)\n",
    "        LCP += (2**m)*t\n",
    "    return LCP"
   ]
  },
  {
   "cell_type": "markdown",
   "metadata": {
    "id": "pWtT-Zn9MtYn"
   },
   "source": [
    "Test: "
   ]
  },
  {
   "cell_type": "code",
   "execution_count": 7,
   "metadata": {
    "colab": {
     "base_uri": "https://localhost:8080/"
    },
    "id": "NpcWjDLIMtYn",
    "outputId": "a4d2c695-a515-4d9c-d2ae-3fc4cd1a92e5"
   },
   "outputs": [
    {
     "name": "stdout",
     "output_type": "stream",
     "text": [
      "SA: [6 5 3 1 0 4 2]\n",
      "LCP: [0 1 3 0 0 2]\n",
      "6 :  $\n",
      "5 :  a$\n",
      "3 :  ana$\n",
      "1 :  anana$\n",
      "0 :  banana$\n",
      "4 :  na$\n",
      "2 :  nana$\n"
     ]
    }
   ],
   "source": [
    "A = 'banana$'\n",
    "SA, _, _, R = getSA(A)\n",
    "LCP = getLCP(SA, R)\n",
    "print(\"SA:\", SA)\n",
    "print ('LCP:', LCP)\n",
    "\n",
    "for n in range(len(A)):\n",
    "    print (SA[n], ': ', A[SA[n]:])"
   ]
  },
  {
   "cell_type": "markdown",
   "metadata": {
    "id": "DudzRpZeMtYo"
   },
   "source": [
    "### Finding the longest common substring\n",
    "\n",
    "Let A anb B be two strings. How to find efficiently the longest common substring in them?\n",
    "\n",
    "A possible approach:\n",
    "* Concatenate A and B into a single string C (but insert some separator between A and B)\n",
    "* Construct SA and LCP for C\n",
    "* Find the maximum element in LCP among those lexicographically neighboring suffixes in C where one starts from A and another from B \n",
    "\n",
    "The whole procedure has complexity $O(N\\log^2 N)$."
   ]
  },
  {
   "cell_type": "code",
   "execution_count": null,
   "metadata": {
    "id": "Ol0DGV7rMtYo"
   },
   "outputs": [],
   "source": [
    "def getLCS(A, B):\n",
    "    N0 = len(A)\n",
    "    N1 = len(B)\n",
    "    C = A+'$'+B+' '\n",
    "    SA, _, _, R = getSA(C)\n",
    "    LCP = getLCP(SA, R)\n",
    "    diff = (np.logical_xor(SA[:-1] < N0, SA[1:] < N0)).astype(int)\n",
    "    n = np.argmax(LCP*diff)\n",
    "    lcs = C[SA[n]:SA[n]+LCP[n]]\n",
    "    return lcs"
   ]
  },
  {
   "cell_type": "markdown",
   "metadata": {
    "id": "HA80mlqXMtYp"
   },
   "source": [
    "Test:"
   ]
  },
  {
   "cell_type": "code",
   "execution_count": null,
   "metadata": {
    "colab": {
     "base_uri": "https://localhost:8080/"
    },
    "id": "lU81AhK7MtYp",
    "outputId": "06a876c0-0fe2-4cf8-a4e8-383576e9c04f"
   },
   "outputs": [
    {
     "name": "stdout",
     "output_type": "stream",
     "text": [
      "anana\n"
     ]
    }
   ],
   "source": [
    "A = 'applebananagrapefruitcucumberpotatograpefruit' \n",
    "B = 'peachorangeananastomatocherryorange'\n",
    "\n",
    "print (getLCS(A, B))"
   ]
  },
  {
   "cell_type": "markdown",
   "metadata": {
    "collapsed": true,
    "id": "VW2E7Jm4MtYp"
   },
   "source": [
    "**Exercise:** solve problem http://www.spoj.com/problems/DISUBSTR/ (count distinct substrings in a string)  "
   ]
  }
 ],
 "metadata": {
  "colab": {
   "collapsed_sections": [],
   "provenance": []
  },
  "kernelspec": {
   "display_name": "Python 3 (ipykernel)",
   "language": "python",
   "name": "python3"
  },
  "language_info": {
   "codemirror_mode": {
    "name": "ipython",
    "version": 3
   },
   "file_extension": ".py",
   "mimetype": "text/x-python",
   "name": "python",
   "nbconvert_exporter": "python",
   "pygments_lexer": "ipython3",
   "version": "3.10.7"
  }
 },
 "nbformat": 4,
 "nbformat_minor": 1
}
